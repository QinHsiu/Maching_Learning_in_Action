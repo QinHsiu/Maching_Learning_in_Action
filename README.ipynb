{
 "cells": [
  {
   "cell_type": "markdown",
   "id": "2384dad3",
   "metadata": {},
   "source": [
    "# 这些程序和笔记全部来自于：机器学习实战(伊斯特里亚人)\n",
    "# 原版书籍代码链接：[书籍源码](https://codechina.csdn.net/mirrors/pbharrin/machinelearninginaction?utm_source=csdn_github_accelerator)\n",
    "\n",
    "# chapter 01~07 属于分类\n",
    "# chapter 08~09 属于回归\n",
    "# chapter 10~12 属于无监督学习\n",
    "# chapter 13~16 属于其他\n"
   ]
  },
  {
   "cell_type": "code",
   "execution_count": null,
   "id": "f9468cfe",
   "metadata": {},
   "outputs": [],
   "source": []
  }
 ],
 "metadata": {
  "kernelspec": {
   "display_name": "Python 3",
   "language": "python",
   "name": "python3"
  },
  "language_info": {
   "codemirror_mode": {
    "name": "ipython",
    "version": 3
   },
   "file_extension": ".py",
   "mimetype": "text/x-python",
   "name": "python",
   "nbconvert_exporter": "python",
   "pygments_lexer": "ipython3",
   "version": "3.9.5"
  }
 },
 "nbformat": 4,
 "nbformat_minor": 5
}
