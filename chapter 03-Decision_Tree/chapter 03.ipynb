{
 "cells": [
  {
   "cell_type": "markdown",
   "id": "c9bda954",
   "metadata": {},
   "source": [
    "# 决策树\n",
    "### 优点：计算复杂度不高，输出结果易于理解，对中间值的缺失不敏感，可以处理不相关特征数据\n",
    "### 缺点：可能会产生过度匹配问题\n",
    "### 适用数据类型：数值型和标称型\n",
    "\n",
    "### 决策树一般流程：\n",
    "##### 搜集数据\n",
    "##### 准备数据：树构造算法只适用于标称型数据，因此数值型数据必须离散化\n",
    "##### 分析数据：构造树完成之后，检查图形是否符合预期\n",
    "##### 训练算法：构造树的数据结构\n",
    "##### 测试算法：使用经验树计算错误率\n",
    "##### 使用方法：适用于任何监督学习算法，使用决策树可以更好地理解数据的内在含义\n",
    "\n",
    "### 信息增益\n",
    "##### 划分数据的大原则：将无序数据变得更加有序\n",
    "##### 集合信息的度量方式称为香农熵或者熵\n",
    "##### 熵越大表明混合数据越多，可以在数据集中添加更多的分类，观察熵的变化规律"
   ]
  },
  {
   "cell_type": "code",
   "execution_count": 7,
   "id": "085aa3a7",
   "metadata": {},
   "outputs": [
    {
     "data": {
      "text/plain": [
       "1.3709505944546687"
      ]
     },
     "execution_count": 7,
     "metadata": {},
     "output_type": "execute_result"
    }
   ],
   "source": [
    "from math import log\n",
    "# 计算一个数据集的香农熵\n",
    "def calcShannonEnt(dataSet):\n",
    "    numEntries=len(dataSet)\n",
    "    labelCounts={}\n",
    "    # 计算各个类别数量\n",
    "    for featVec in dataSet:\n",
    "        currentLabel=featVec[-1]\n",
    "        if currentLabel not in labelCounts.keys():\n",
    "            labelCounts[currentLabel]=0\n",
    "        labelCounts[currentLabel]+=1\n",
    "    shannonEnt=0.0\n",
    "    for key in labelCounts:\n",
    "        # 每个类别出现的频率\n",
    "        prob=float(labelCounts[key])/numEntries\n",
    "        # 计算熵的公式：prob表示该类别出现比例\n",
    "        shannonEnt -=prob*log(prob,2)\n",
    "    return shannonEnt\n",
    "\n",
    "# 测试函数\n",
    "# 创建数据集\n",
    "def creatDataSet():\n",
    "    dataSet=[[1,1,'yes'],[1,1,'yes'],[1,0,'no'],[0,1,'no'],[0,1,'no']]\n",
    "    labels=['no surfacing','flippers']\n",
    "    return dataSet,labels\n",
    "\n",
    "# 使用reload加载模块\n",
    "# reload(trees.py)\n",
    "myDat,labels=creatDataSet()\n",
    "calcShannonEnt(myDat)\n",
    "myDat[0][-1]='maybe'\n",
    "calcShannonEnt(myDat)\n",
    "\n",
    "### 得到熵之后，可以按照获取最大信息增益的方法划分数据\n",
    "### 度量集合无序程度的方法：基尼不纯度，就是从一个数据集中随机选取子项，度量其被错误分类到其他组的概率\n",
    "### 分类算法：划分数据集+测量信息熵"
   ]
  },
  {
   "cell_type": "code",
   "execution_count": 18,
   "id": "15bfd646",
   "metadata": {},
   "outputs": [
    {
     "data": {
      "text/plain": [
       "0"
      ]
     },
     "execution_count": 18,
     "metadata": {},
     "output_type": "execute_result"
    }
   ],
   "source": [
    "### 划分数据集\n",
    "### 三个形参分别为待划分数据集、划分数据集的特征、需要返回特征的值\n",
    "def splitDataSet(dataSet,axis,value):\n",
    "    # 使用列表保存划分的数据集\n",
    "    retDataSet=[]\n",
    "    for featVec in dataSet:\n",
    "        # 按照特征值axis进行划分\n",
    "        if featVec[axis]==value:\n",
    "            reducedFeatVec=featVec[:axis]\n",
    "            # 将切片列表中元素一次入栈\n",
    "            reducedFeatVec.extend(featVec[axis+1:])\n",
    "            # print(reducedFeatVec)\n",
    "            # 将列表入栈（划分的列表）\n",
    "            retDataSet.append(reducedFeatVec)\n",
    "    return retDataSet\n",
    "\n",
    "myDat,labels=creatDataSet()\n",
    "# splitDataSet(myDat,0,1)\n",
    "# splitDataSet(myDat,0,0)"
   ]
  },
  {
   "cell_type": "markdown",
   "id": "57856233",
   "metadata": {},
   "source": [
    "### 利用熵选择最好的数据集划分方式\n",
    "### 数据集要求：数据必须是一种由列表元素组成的列表，所有列表元素都要具有相同的数据长度\n",
    "### 数据的最后一列或者每个实例的最后一个元素是当前实例的类别标签\n"
   ]
  },
  {
   "cell_type": "code",
   "execution_count": null,
   "id": "8570bcc5",
   "metadata": {},
   "outputs": [],
   "source": [
    "def chooseBestFeatureToSplit(dataSet):\n",
    "    # 数据带有目标值（类别）\n",
    "    numFeature=len(dataSet[0])-1\n",
    "    # 原始数据集的熵（类似于baseline）\n",
    "    baseEntropy=calcShannonEnt(dataSet)\n",
    "    bestInfoGain=0.0\n",
    "    bestFeature=-1\n",
    "    for i in range(numFeature):\n",
    "        featList=[example[i] for example in dataSet]\n",
    "        # 创建唯一的分类标签列表\n",
    "        uniqueVals=set(featList)\n",
    "        newEntropy=0.0\n",
    "        # 计算每种划分方式的信息熵\n",
    "        for value in uniqueVals:\n",
    "            # 遍历当前特征中的所有唯一属性值，对每个特征划分一次数据集\n",
    "            subDataSet=splitDataSet(dataSet,i,value)\n",
    "            # 计算每个新数据集的新熵值，并对所有唯一特征值得到的熵求和\n",
    "            prob=len(subDataSet)/float(len(dataSet))\n",
    "            newEntropy += prob*calcShannonEnt(subDataSet)\n",
    "        # 信息增益是指熵的减少，或者是数据无序度的减少\n",
    "        infoGain=baseEntropy-newEntropy\n",
    "        # 计算最好的信息增益\n",
    "        if (infoGain>bestInfoGain):\n",
    "            bestInfoGain=infoGain\n",
    "            bestFeature=i\n",
    "        # 返回用于数据最好特征划分的索引值\n",
    "        return bestFeature\n",
    "    \n",
    "            \n",
    "# chooseBestFeatureToSplit(myDat)"
   ]
  },
  {
   "cell_type": "markdown",
   "id": "5d9af953",
   "metadata": {},
   "source": [
    "# 递归构建决策树\n",
    "### 基于最好的属性值划分数据集，由于特征值可能多于两个，因此可能存在大于两个分支的数据集划分（采用递归划分）\n",
    "### 递归结束的条件：程序遍历完所有划分数据集的属性，或者每个分支下的所有实例都具有相同的分类\n",
    "### 可以设置算法可以划分的最大分组数目\n",
    "\n",
    "\n",
    "### 如果数据集已经处理了所有属性，但是类标签依然不是唯一的，此时需要采用多数表决的方法定义该叶子节点的分类"
   ]
  },
  {
   "cell_type": "code",
   "execution_count": 21,
   "id": "6bd5f281",
   "metadata": {},
   "outputs": [
    {
     "data": {
      "text/plain": [
       "{'no surfacing': {0: 'no', 1: {'flippers': {0: 'no', 1: 'yes'}}}}"
      ]
     },
     "execution_count": 21,
     "metadata": {},
     "output_type": "execute_result"
    }
   ],
   "source": [
    "\n",
    "\n",
    "import operator\n",
    "def majorityCnt(classList):\n",
    "    # 用于存储每个类标签出现的频率\n",
    "    classCount={}\n",
    "    for vote in classList:\n",
    "        if vote not in classCount.keys():\n",
    "            classCount[vote]=0\n",
    "        classCount[vote]+=1\n",
    "    # 排序\n",
    "    sortedClassCount=sorted(classCount.items(),key=operator.itemgetter(1),reverse=True)\n",
    "    # 返回出现次数最多的分类名称\n",
    "    return sotedClassCount[0][0]\n",
    "\n",
    "\n",
    "# 创建树\n",
    "def createTree(dataSet,labels):\n",
    "    # 该列表包含了数据集中的所有类标签\n",
    "    classList=[example[-1] for example in dataSet]\n",
    "    # 所有类标签完全相同便停止划分\n",
    "    if classList.count(classList[0])==len(classList):\n",
    "        return classList[0]\n",
    "    # 遍历完所有特征时返回出现次数最多的\n",
    "    if len(dataSet[0])==1:\n",
    "        return majorityCnt(classList)\n",
    "    # 保存当前选择的最好特征\n",
    "    bestFeat=chooseBestFeatureToSplit(dataSet)\n",
    "    bestFeatLabel=labels[bestFeat]\n",
    "    myTree={bestFeatLabel:{}}\n",
    "    # 得到列表包含的所有属性值\n",
    "    del(labels[bestFeat])\n",
    "    # 得到数据集中最好特征的所有属性值\n",
    "    featValues=[example[bestFeat] for example in dataSet]\n",
    "    uniqueVals=set(featValues)\n",
    "    # 遍历当前选择特征包含的所有属性值，在每个数据集划分上递归调用创建树函数\n",
    "    for value in uniqueVals:\n",
    "        # 复制类标签，防止递归调用时修改labels\n",
    "        subLabels=labels[:]\n",
    "        # 最好特征标签的值\n",
    "        myTree[bestFeatLabel][value]=createTree(splitDataSet(dataSet,bestFeat,value),subLabels)\n",
    "    return myTree\n",
    "\n",
    "createTree(myDat,labels)\n",
    "# {'no surfacing': {0: 'no', 1: {'flippers': {0: 'no', 1: 'yes'}}}}\n",
    "# 从上述结果可以看出该树包含3个叶子节点和2个判断节点\n",
    "# 判断依据：一个键值对中值如果为一个字典就是判断节点，如果值为类标签，就为也叶子节点\n"
   ]
  },
  {
   "cell_type": "code",
   "execution_count": 32,
   "id": "a9c901b1",
   "metadata": {},
   "outputs": [
    {
     "data": {
      "image/png": "[encoded data removed]",
      "text/plain": [
       "<Figure size 432x288 with 1 Axes>"
      ]
     },
     "metadata": {},
     "output_type": "display_data"
    }
   ],
   "source": [
    "# 使用matplotlib绘制树形图（一个简单例子）\n",
    "import matplotlib.pyplot as plt\n",
    "import matplotlib\n",
    "\n",
    "# 定义文本框和箭头格式\n",
    "decisionNode=dict(boxstyle=\"sawtooth\",fc=\"0.8\")\n",
    "leafNode=dict(boxstyle=\"round4\",fc=\"0.8\")\n",
    "arrow_args=dict(arrowstyle=\"<-\")\n",
    "\n",
    "# 绘制带箭头的注解\n",
    "def plotNode(nodeTxt,centerPt,parentPt,nodeType):\n",
    "    createPlot.ax1.annotate(nodeTxt,xy=parentPt,xycoords='axes fraction',xytext=centerPt,textcoords='axes fraction',\n",
    "                            va=\"center\",ha=\"center\",bbox=nodeType,arrowprops=arrow_args)\n",
    "# 创建画布并作图\n",
    "def createPlot():\n",
    "    # 设置字体\n",
    "    plt.rcParams['font.sans-serif']=['SimHei']\n",
    "    plt.rcParams['axes.unicode_minus'] = False\n",
    "    fig=plt.figure(1,facecolor='white')\n",
    "    fig.clf()\n",
    "    createPlot.ax1=plt.subplot(111,frameon=False)\n",
    "    plotNode(U'决策节点',(0.5,0.1),(0.1,0.5),decisionNode)\n",
    "    plotNode(U'叶节点',(0.8,0.1),(0.3,0.8),leafNode)\n",
    "    plt.show()\n",
    "  \n",
    "createPlot()"
   ]
  },
  {
   "cell_type": "code",
   "execution_count": 53,
   "id": "82de8e2d",
   "metadata": {},
   "outputs": [
    {
     "name": "stdout",
     "output_type": "stream",
     "text": [
      "3 2\n"
     ]
    }
   ],
   "source": [
    "# 获取叶节点的数目和树的层数\n",
    "# 获取叶子节点数目\n",
    "def getNumLeafs(myTree):\n",
    "    numLeafs=0\n",
    "    firstStr=list(myTree.keys())[0]\n",
    "    secondDict=myTree[firstStr]\n",
    "    for key in secondDict.keys():\n",
    "        if type(secondDict[key]).__name__=='dict':\n",
    "            numLeafs += getNumLeafs(secondDict[key])\n",
    "        else:\n",
    "            numLeafs +=1\n",
    "    return numLeafs\n",
    "\n",
    "# 获取树的深度\n",
    "def getTreeDepth(myTree):\n",
    "    maxDepth=0\n",
    "    firstStr=list(myTree.keys())[0]\n",
    "    secondDict=myTree[firstStr]\n",
    "    for key in secondDict.keys():\n",
    "        if type(secondDict[key]).__name__=='dict':\n",
    "            thisDepth  =1+getTreeDepth(secondDict[key])\n",
    "        else:\n",
    "            thisDepth=1\n",
    "        if maxDepth<thisDepth:\n",
    "            maxDepth=thisDepth\n",
    "    return maxDepth\n",
    "\n",
    "# 测试案例\n",
    "def retrieveTree(i):\n",
    "    listOfTrees=[{'no surfacing': {0: 'no', 1: {'flippers': {0: 'no', 1: 'yes'}}}},\n",
    "                 {'no surfacing': {0: 'no', 1: {'flippers': {0: {'head':{0:'no', 1: 'yes'}},1:'no'}}}}]\n",
    "    return listOfTrees[i]\n",
    "\n",
    "myTree=retrieveTree(0)\n",
    "myTree.keys()\n",
    "print(getNumLeafs(myTree),getTreeDepth(myTree))\n",
    "# retrieveTree(1)"
   ]
  },
  {
   "cell_type": "code",
   "execution_count": 54,
   "id": "0fc09a6e",
   "metadata": {},
   "outputs": [
    {
     "data": {
      "image/png": "[encoded data removed]",
      "text/plain": [
       "<Figure size 432x288 with 1 Axes>"
      ]
     },
     "metadata": {},
     "output_type": "display_data"
    }
   ],
   "source": [
    "# 自顶向下绘制树形图\n",
    "import matplotlib.pyplot as plt\n",
    "\n",
    "decisionNode = dict(boxstyle=\"sawtooth\", fc=\"0.8\")\n",
    "leafNode = dict(boxstyle=\"round4\", fc=\"0.8\")\n",
    "arrow_args = dict(arrowstyle=\"<-\")\n",
    "\n",
    "\n",
    "\n",
    "def plotNode(nodeTxt, centerPt, parentPt, nodeType):\n",
    "    createPlot.ax1.annotate(nodeTxt, xy=parentPt,  xycoords='axes fraction',\n",
    "             xytext=centerPt, textcoords='axes fraction',\n",
    "             va=\"center\", ha=\"center\", bbox=nodeType, arrowprops=arrow_args )\n",
    "    \n",
    "# 在父节点之间填充文本信息\n",
    "# 计算父子节点间的中间位置，并在此处添加文本标签信息\n",
    "def plotMidText(cntrPt, parentPt, txtString):\n",
    "    xMid = (parentPt[0]-cntrPt[0])/2.0 + cntrPt[0]\n",
    "    yMid = (parentPt[1]-cntrPt[1])/2.0 + cntrPt[1]\n",
    "    createPlot.ax1.text(xMid, yMid, txtString, va=\"center\", ha=\"center\", rotation=30)\n",
    "\n",
    "# 计算树宽与树高\n",
    "def plotTree(myTree, parentPt, nodeTxt):#if the first key tells you what feat was split on\n",
    "    numLeafs = getNumLeafs(myTree)  #this determines the x width of this tree\n",
    "    depth = getTreeDepth(myTree)\n",
    "    firstStr = list(myTree.keys())[0]     #the text label for this node should be this\n",
    "    cntrPt = (plotTree.xOff + (1.0 + float(numLeafs))/2.0/plotTree.totalW, plotTree.yOff)\n",
    "    plotMidText(cntrPt, parentPt, nodeTxt)\n",
    "    # 标记子节点属性值\n",
    "    # 绘制子节点所具有的特征值，或者沿着此分支方向下的数据实例必须具有的特征值\n",
    "    plotNode(firstStr, cntrPt, parentPt, decisionNode)\n",
    "    secondDict = myTree[firstStr]\n",
    "    # 减少y偏移\n",
    "    # 在此处按比例减少全局变量plotTree.yOff，并标注此处将要绘制子节点（判断节点或者子节点）\n",
    "    # 此处需要保存绘制图形的轨迹\n",
    "    plotTree.yOff = plotTree.yOff - 1.0/plotTree.totalD\n",
    "    for key in secondDict.keys():\n",
    "        if type(secondDict[key]).__name__=='dict':#test to see if the nodes are dictonaires, if not they are leaf nodes   \n",
    "            plotTree(secondDict[key],cntrPt,str(key))        #recursion\n",
    "        else:   #it's a leaf node print the leaf node\n",
    "            plotTree.xOff = plotTree.xOff + 1.0/plotTree.totalW\n",
    "            plotNode(secondDict[key], (plotTree.xOff, plotTree.yOff), cntrPt, leafNode)\n",
    "            plotMidText((plotTree.xOff, plotTree.yOff), cntrPt, str(key))\n",
    "    plotTree.yOff = plotTree.yOff + 1.0/plotTree.totalD\n",
    "#if you do get a dictonary you know it's a tree, and the first element will be another dict\n",
    "\n",
    "def createPlot(inTree):\n",
    "    fig = plt.figure(1, facecolor='white')\n",
    "    fig.clf()\n",
    "    axprops = dict(xticks=[], yticks=[])\n",
    "    createPlot.ax1 = plt.subplot(111, frameon=False, **axprops)    #no ticks\n",
    "    #createPlot.ax1 = plt.subplot(111, frameon=False) #ticks for demo puropses \n",
    "    # 计算树宽与树高\n",
    "    # 树的宽度用于计算放置判断节点的位置，主要计算原则：将其放在所有叶子节点的中间，而非其子节点的中间\n",
    "    # 使用 plotTree.xOff和plotTree.yOff追踪已经绘制的节点位置，以及放置下一个节点的恰当位置\n",
    "    # x与y轴取值范围都是0~1\n",
    "    # 按照图形比例绘制树形图无需关心实际输出子图的大小\n",
    "    \n",
    "    plotTree.totalW = float(getNumLeafs(inTree))\n",
    "    plotTree.totalD = float(getTreeDepth(inTree))\n",
    "    plotTree.xOff = -0.5/plotTree.totalW; plotTree.yOff = 1.0;\n",
    "    plotTree(inTree, (0.5,1.0), '')\n",
    "    plt.show()\n",
    "\n",
    "myTree['no surfacing'][3]='maybe'\n",
    "createPlot(myTree)"
   ]
  },
  {
   "cell_type": "markdown",
   "id": "1756dff7",
   "metadata": {},
   "source": [
    "# 测试和存储分类器\n",
    "### 从原始数据集中创建决策树\n",
    "### 使用决策树构建分类器\n",
    "### 测试算法：使用决策树进行分类\n",
    "### 注：在执行数据分类时，需要决策树以及用于构造树的标签向量。\n",
    "##### 程序比较测试数据与决策树上的数值，递归执行该过程直到进入叶子节点，\n",
    "##### 最后将测试数据定义为叶子节点所属类型"
   ]
  },
  {
   "cell_type": "code",
   "execution_count": 60,
   "id": "c0664018",
   "metadata": {},
   "outputs": [
    {
     "data": {
      "text/plain": [
       "'yes'"
      ]
     },
     "execution_count": 60,
     "metadata": {},
     "output_type": "execute_result"
    }
   ],
   "source": [
    "\n",
    "\n",
    "def classify(inputTree,featLabels,testVec):\n",
    "    firstStr=list(inputTree.keys())[0]\n",
    "    secondDict=inputTree[firstStr]\n",
    "    # 将标签字符串转换为索引\n",
    "    # 使用index方法查找当前列表中第一个匹配firstStr变量的元素\n",
    "    featIndex=featLabels.index(firstStr)\n",
    "    for key in secondDict.keys():\n",
    "        if testVec[featIndex]==key:\n",
    "            if type(secondDict[key]).__name__=='dict':\n",
    "                # 代码递归遍历整棵树，比较testVec变量中的值与树节点的值\n",
    "                # 如果到达叶子节点就返回当前节点的分类标签\n",
    "                classLabel=classify(secondDict[key],featLabels,testVec)\n",
    "            else:\n",
    "                classLabel=secondDict[key]\n",
    "    return classLabel\n",
    "\n",
    "# 测试分类\n",
    "myDat,labels=creatDataSet()\n",
    "myTree=retrieveTree(0)\n",
    "classify(myTree,labels,[1,0])\n",
    "classify(myTree,labels,[1,1])"
   ]
  },
  {
   "cell_type": "markdown",
   "id": "4fd8ff17",
   "metadata": {},
   "source": [
    "# 使用算法：存储决策树\n",
    "### 构造决策树很消耗时间\n",
    "### 使用python的pickle序列化对象，用于在磁盘上保存对象，在需要时取出"
   ]
  },
  {
   "cell_type": "code",
   "execution_count": 68,
   "id": "6d121435",
   "metadata": {},
   "outputs": [
    {
     "name": "stdout",
     "output_type": "stream",
     "text": [
      "{'age': {'pre': {'prescript': {'hyper': {'astigmatic': {'yes': 'no lenses', 'no': {'tearRate': {'normal': 'soft', 'reduced': 'no lenses'}}}}, 'myope': {'astigmatic': {'yes': {'tearRate': {'normal': 'hard', 'reduced': 'no lenses'}}, 'no': {'tearRate': {'normal': 'soft', 'reduced': 'no lenses'}}}}}}, 'young': {'tearRate': {'hard': 'hard', 'no lenses': 'no lenses', 'soft': 'soft'}}, 'presbyopic': {'prescript': {'hyper': {'astigmatic': {'yes': 'no lenses', 'no': {'tearRate': {'normal': 'soft', 'reduced': 'no lenses'}}}}, 'myope': {'astigmatic': {'yes': {'tearRate': {'normal': 'hard', 'reduced': 'no lenses'}}, 'no': 'no lenses'}}}}}}\n"
     ]
    },
    {
     "data": {
      "image/png": "[encoded data removed]",
      "text/plain": [
       "<Figure size 432x288 with 1 Axes>"
      ]
     },
     "metadata": {},
     "output_type": "display_data"
    }
   ],
   "source": [
    "\n",
    "\n",
    "def storeTree(inputTree,filename):\n",
    "    import pickle\n",
    "    fw=open(filename,'w')\n",
    "    pickle.dump(inputTree,fw)\n",
    "    fw.close()\n",
    "    #with open(filename,'w+') as f:\n",
    "    #    pickle.dump(inputTree,f)\n",
    "\n",
    "def grabTree(filename):\n",
    "    import pickle\n",
    "    fr=open(filename)\n",
    "    return pickle.load(fr) \n",
    "\n",
    "\n",
    "\n",
    "#storeTree(myTree,r'classifierStorage.txt')\n",
    "#garbTree(r'classifierStorage.txt')\n",
    "\n",
    "# 案例：使用决策树预测隐形眼镜类型\n",
    "def testLenses(filename):\n",
    "    fr=open(filename)\n",
    "    lenses=[inst.strip().split('\\t') for inst in fr.readlines()]\n",
    "    lensesLabels=['age','prescript','astigmatic','tearRate']\n",
    "    # 构建决策树\n",
    "    lensesTree=createTree(lenses,lensesLabels)\n",
    "    print(lensesTree)\n",
    "    # 绘制树形图\n",
    "    createPlot(lensesTree)\n",
    "# 数据集介绍：该数据集参考网上[数据集](http://archive.ics.uci.edu/ml/machine-learning-databases/lenses/)\n",
    "\n",
    "testLenses(r'lenses.txt')\n"
   ]
  },
  {
   "cell_type": "markdown",
   "id": "be11ad9a",
   "metadata": {},
   "source": [
    "\n",
    "# 从结果可知，决策树很好的匹配了实验数据，但是这些匹配选项过多，这种现象叫做过度匹配\n",
    "### 可以使用剪枝方法裁剪决策树，去掉1一些不必要的叶子节点。\n",
    "### 如果叶子节点只能增加少许信息，可以删除该节点，将其并入其他叶子节点中\n",
    "### 本章节使用ID3算法，无法处理数值型数据，只能处理标称型数据集"
   ]
  },
  {
   "cell_type": "markdown",
   "id": "3541bb78",
   "metadata": {},
   "source": [
    "# 本章小结：\n",
    "### 决策树分类器就像带有终止块的流程图，终止块表示分类结果\n",
    "### 数据集处理：测试数据集的熵，寻找最优方案划分数据集，直到数据集中所有数据属于同一分类\n",
    "### 通常采用递归方法将数据集转化为决策树\n",
    "### 可以通过裁剪决策树，合并相邻的无法产生大量信息增益的叶子节点，消除过度匹配问题"
   ]
  },
  {
   "cell_type": "code",
   "execution_count": null,
   "id": "668d824c",
   "metadata": {},
   "outputs": [],
   "source": []
  }
 ],
 "metadata": {
  "kernelspec": {
   "display_name": "Python 3",
   "language": "python",
   "name": "python3"
  },
  "language_info": {
   "codemirror_mode": {
    "name": "ipython",
    "version": 3
   },
   "file_extension": ".py",
   "mimetype": "text/x-python",
   "name": "python",
   "nbconvert_exporter": "python",
   "pygments_lexer": "ipython3",
   "version": "3.9.5"
  }
 },
 "nbformat": 4,
 "nbformat_minor": 5
}
