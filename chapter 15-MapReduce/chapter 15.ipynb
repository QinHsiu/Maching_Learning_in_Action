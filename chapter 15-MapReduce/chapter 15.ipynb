{
 "cells": [
  {
   "cell_type": "markdown",
   "id": "57342abb",
   "metadata": {},
   "source": [
    "### 大数据与MapReduce\n",
    "##### 对于海量数据，可以使用Hadoop，该项目使用JAVA开发，支持在大量机器上分布式处理数据\n",
    "##### Hadoop是MapReduce的一个免费开源实现\n",
    "##### MapReduce优点:可以在短时间内完成大量工作；缺点：算法必须经过重写，需要对系统工作有一定了解\n",
    "##### MapReduce适用数据类型：数值型和标称型数据\n",
    "##### 其工作流程：将单个作业划分成很多小份，输入数据也被切分成很多小份分发到每一个节点，各个节点只在本地数据上做运算\n",
    "##### 对应的运算代码称为mapper，这个过程叫map阶段；\n",
    "##### 每个mapper的输出通过某种方式组合（一般会排序）\n",
    "##### 排序后的结果再被分成小份分发到每个节点进入第二阶段（reduce）,对应代码称为：reducer,reducer的输出就是最终结果\n",
    "##### 更多相关内容请参看书籍内容！"
   ]
  },
  {
   "cell_type": "code",
   "execution_count": null,
   "id": "0b786647",
   "metadata": {},
   "outputs": [],
   "source": []
  }
 ],
 "metadata": {
  "kernelspec": {
   "display_name": "Python 3",
   "language": "python",
   "name": "python3"
  },
  "language_info": {
   "codemirror_mode": {
    "name": "ipython",
    "version": 3
   },
   "file_extension": ".py",
   "mimetype": "text/x-python",
   "name": "python",
   "nbconvert_exporter": "python",
   "pygments_lexer": "ipython3",
   "version": "3.9.5"
  }
 },
 "nbformat": 4,
 "nbformat_minor": 5
}
