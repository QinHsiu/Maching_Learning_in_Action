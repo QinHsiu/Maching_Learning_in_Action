{
 "cells": [
  {
   "cell_type": "markdown",
   "id": "69ec945e",
   "metadata": {},
   "source": [
    "### python基础知识：[基础知识链接](https://blog.csdn.net/qxyloveyy/category_9706023.html?spm=1001.2014.3001.5482)\n",
    "### Numpy基础知识"
   ]
  },
  {
   "cell_type": "markdown",
   "id": "b132df77",
   "metadata": {},
   "source": [
    "##### 安装包：pip install numpy"
   ]
  },
  {
   "cell_type": "markdown",
   "id": "ec6a3f25",
   "metadata": {},
   "source": [
    "##### 调用包："
   ]
  },
  {
   "cell_type": "code",
   "execution_count": 4,
   "id": "75bea70d",
   "metadata": {},
   "outputs": [],
   "source": [
    "from numpy import*"
   ]
  },
  {
   "cell_type": "markdown",
   "id": "63a458ff",
   "metadata": {},
   "source": [
    "##### 创建数组："
   ]
  },
  {
   "cell_type": "code",
   "execution_count": 8,
   "id": "0bdc019a",
   "metadata": {},
   "outputs": [
    {
     "name": "stdout",
     "output_type": "stream",
     "text": [
      "[1 2 3] [[1 2]\n",
      " [3 4]]\n"
     ]
    }
   ],
   "source": [
    "mm=array([1,2,3])\n",
    "mn=array([[1,2],[3,4]])\n",
    "print(mm,mn)"
   ]
  },
  {
   "cell_type": "markdown",
   "id": "eec4ac4d",
   "metadata": {},
   "source": [
    "##### 数组加法："
   ]
  },
  {
   "cell_type": "code",
   "execution_count": 9,
   "id": "afe551c5",
   "metadata": {},
   "outputs": [
    {
     "name": "stdout",
     "output_type": "stream",
     "text": [
      "[3 5 7]\n"
     ]
    }
   ],
   "source": [
    "print(mm+array([2,3,4]))\n"
   ]
  },
  {
   "cell_type": "markdown",
   "id": "be5b79c5",
   "metadata": {},
   "source": [
    "##### 数组乘法："
   ]
  },
  {
   "cell_type": "code",
   "execution_count": 10,
   "id": "08eecc4c",
   "metadata": {},
   "outputs": [
    {
     "data": {
      "text/plain": [
       "array([[2, 4],\n",
       "       [6, 8]])"
      ]
     },
     "execution_count": 10,
     "metadata": {},
     "output_type": "execute_result"
    }
   ],
   "source": [
    "mn*2"
   ]
  },
  {
   "cell_type": "markdown",
   "id": "4c255bac",
   "metadata": {},
   "source": [
    "##### 数组元素全部平方：\n"
   ]
  },
  {
   "cell_type": "code",
   "execution_count": 11,
   "id": "6ca6d9c1",
   "metadata": {},
   "outputs": [
    {
     "data": {
      "text/plain": [
       "array([[ 1,  4],\n",
       "       [ 9, 16]], dtype=int32)"
      ]
     },
     "execution_count": 11,
     "metadata": {},
     "output_type": "execute_result"
    }
   ],
   "source": [
    "mn**2"
   ]
  },
  {
   "cell_type": "markdown",
   "id": "d154a9bb",
   "metadata": {},
   "source": [
    "##### 访问数组元素："
   ]
  },
  {
   "cell_type": "code",
   "execution_count": 15,
   "id": "b05e4d87",
   "metadata": {},
   "outputs": [
    {
     "name": "stdout",
     "output_type": "stream",
     "text": [
      "第0行为： [1 2]\n"
     ]
    }
   ],
   "source": [
    "\n",
    "print('第0行为：',mn[0])"
   ]
  },
  {
   "cell_type": "code",
   "execution_count": 14,
   "id": "97f9c892",
   "metadata": {},
   "outputs": [
    {
     "name": "stdout",
     "output_type": "stream",
     "text": [
      "第0行第一列为： 2\n"
     ]
    }
   ],
   "source": [
    "print('第0行第一列为：',mn[0,1])"
   ]
  },
  {
   "cell_type": "markdown",
   "id": "32f473f7",
   "metadata": {},
   "source": [
    "##### 两数组对应相乘："
   ]
  },
  {
   "cell_type": "code",
   "execution_count": 18,
   "id": "b0763e31",
   "metadata": {},
   "outputs": [
    {
     "name": "stdout",
     "output_type": "stream",
     "text": [
      "[1 2 3] [1 4 9]\n"
     ]
    }
   ],
   "source": [
    "print(mm,array([1,2,3])*mm)"
   ]
  },
  {
   "cell_type": "markdown",
   "id": "a737eb00",
   "metadata": {},
   "source": [
    "##### 创建矩阵："
   ]
  },
  {
   "cell_type": "code",
   "execution_count": 19,
   "id": "1cbbc140",
   "metadata": {},
   "outputs": [
    {
     "data": {
      "text/plain": [
       "matrix([[1, 2],\n",
       "        [3, 4]])"
      ]
     },
     "execution_count": 19,
     "metadata": {},
     "output_type": "execute_result"
    }
   ],
   "source": [
    "mat([[1,2],[3,4]])"
   ]
  },
  {
   "cell_type": "markdown",
   "id": "c392ec9f",
   "metadata": {},
   "source": [
    "##### 矩阵乘法：\n",
    "##### 对于矩阵AxB需要注意A的列数必须要对于B的行数，否则不能相乘"
   ]
  },
  {
   "cell_type": "code",
   "execution_count": 20,
   "id": "5f80b8b4",
   "metadata": {},
   "outputs": [
    {
     "name": "stdout",
     "output_type": "stream",
     "text": [
      "[[14]]\n"
     ]
    }
   ],
   "source": [
    "matA=mat([1,2,3])\n",
    "matB=mat([[1],[2],[3]])\n",
    "print(matA*matB)"
   ]
  },
  {
   "cell_type": "markdown",
   "id": "a2c7b01f",
   "metadata": {},
   "source": [
    "##### 矩阵的转置和逆以及行列式：\n",
    "##### 其中逆和行列式是针对方阵而言："
   ]
  },
  {
   "cell_type": "code",
   "execution_count": 24,
   "id": "2044de43",
   "metadata": {},
   "outputs": [
    {
     "name": "stdout",
     "output_type": "stream",
     "text": [
      "矩阵转置： [[1]\n",
      " [2]\n",
      " [3]]\n"
     ]
    }
   ],
   "source": [
    "print('矩阵转置：',matA.T)"
   ]
  },
  {
   "cell_type": "markdown",
   "id": "5d6a77a5",
   "metadata": {},
   "source": [
    "##### 创建一个四阶单位数组："
   ]
  },
  {
   "cell_type": "code",
   "execution_count": 25,
   "id": "c4aa3460",
   "metadata": {},
   "outputs": [
    {
     "data": {
      "text/plain": [
       "array([[1., 0., 0., 0.],\n",
       "       [0., 1., 0., 0.],\n",
       "       [0., 0., 1., 0.],\n",
       "       [0., 0., 0., 1.]])"
      ]
     },
     "execution_count": 25,
     "metadata": {},
     "output_type": "execute_result"
    }
   ],
   "source": [
    "eye(4)"
   ]
  },
  {
   "cell_type": "code",
   "execution_count": 28,
   "id": "c71e5c33",
   "metadata": {},
   "outputs": [
    {
     "name": "stdout",
     "output_type": "stream",
     "text": [
      "矩阵的逆： [[1. 0. 0. 0.]\n",
      " [0. 1. 0. 0.]\n",
      " [0. 0. 1. 0.]\n",
      " [0. 0. 0. 1.]]\n"
     ]
    }
   ],
   "source": [
    "matN=mat(eye(4))\n",
    "print('矩阵的逆：',matN.I)"
   ]
  },
  {
   "cell_type": "markdown",
   "id": "a61f0b9c",
   "metadata": {},
   "source": [
    "##### 矩阵排序：\n",
    "##### 获取每个元素的排序序号"
   ]
  },
  {
   "cell_type": "code",
   "execution_count": 29,
   "id": "b75f5a92",
   "metadata": {},
   "outputs": [
    {
     "data": {
      "text/plain": [
       "matrix([[1, 2, 3, 0],\n",
       "        [0, 2, 3, 1],\n",
       "        [0, 1, 3, 2],\n",
       "        [0, 1, 2, 3]], dtype=int64)"
      ]
     },
     "execution_count": 29,
     "metadata": {},
     "output_type": "execute_result"
    }
   ],
   "source": [
    "matN.argsort()"
   ]
  },
  {
   "cell_type": "code",
   "execution_count": 33,
   "id": "a0695c6d",
   "metadata": {},
   "outputs": [
    {
     "name": "stdout",
     "output_type": "stream",
     "text": [
      "直接进行排序：\n"
     ]
    },
    {
     "data": {
      "text/plain": [
       "matrix([[0., 0., 0., 1.],\n",
       "        [0., 0., 0., 1.],\n",
       "        [0., 0., 0., 1.],\n",
       "        [0., 0., 0., 1.]])"
      ]
     },
     "execution_count": 33,
     "metadata": {},
     "output_type": "execute_result"
    }
   ],
   "source": [
    "print('直接进行排序：')\n",
    "matN.sort()\n",
    "matN"
   ]
  },
  {
   "cell_type": "markdown",
   "id": "e824a2e4",
   "metadata": {},
   "source": [
    "##### 求均值："
   ]
  },
  {
   "cell_type": "code",
   "execution_count": 36,
   "id": "1314ff44",
   "metadata": {},
   "outputs": [
    {
     "data": {
      "text/plain": [
       "0.25"
      ]
     },
     "execution_count": 36,
     "metadata": {},
     "output_type": "execute_result"
    }
   ],
   "source": [
    "matN.mean()"
   ]
  },
  {
   "cell_type": "markdown",
   "id": "f2c8e48b",
   "metadata": {},
   "source": [
    "##### 切片操作：\n"
   ]
  },
  {
   "cell_type": "code",
   "execution_count": 37,
   "id": "e1254cc1",
   "metadata": {},
   "outputs": [
    {
     "name": "stdout",
     "output_type": "stream",
     "text": [
      "取第一行所有列元素： [[0. 0. 0. 1.]]\n",
      "取第一列所有行元素： [[0.]\n",
      " [0.]\n",
      " [0.]\n",
      " [0.]]\n"
     ]
    }
   ],
   "source": [
    "print('取第一行所有列元素：',matN[0,:])\n",
    "print('取第一列所有行元素：',matN[:,0])"
   ]
  },
  {
   "cell_type": "markdown",
   "id": "0dcba8dc",
   "metadata": {},
   "source": [
    "### 关于线性代数\n",
    "##### 标量运算：用一个数字去加或者乘一个矩阵，相当于矩阵中每个元素都加或者乘一个数\n",
    "##### 两个矩阵能够相乘的前提条件是A的列数要等于B的行数\n",
    "##### 向量内积：对于两个向量的对应元素相乘并求和\n",
    "##### 矩阵可逆的前提条件是矩阵的行列式存在（且必须为方阵，行数与列数相等）\n",
    "##### 某个矩阵不可逆就表示其为奇异或者退化矩阵\n",
    "##### 矩阵范数：向量的范数运算会给向量赋予一个正标量值，可以把向量范数看作向量的长度"
   ]
  },
  {
   "cell_type": "code",
   "execution_count": 20,
   "id": "42f21524",
   "metadata": {},
   "outputs": [
    {
     "name": "stdout",
     "output_type": "stream",
     "text": [
      "该向量(L1范数，曼哈顿距离)为： 7\n",
      "该向量长度为(L2范数)： 5.0\n"
     ]
    }
   ],
   "source": [
    "from numpy import*\n",
    "import pandas as pd\n",
    "vec=mat([3,4])\n",
    "print(\"该向量(L1范数，曼哈顿距离)为：\",sum(list(map(abs,vec))))\n",
    "print(\"该向量长度为(L2范数)：\",sqrt(sum(vec*vec.T)))"
   ]
  },
  {
   "cell_type": "markdown",
   "id": "213dd414",
   "metadata": {},
   "source": [
    "### 概率论\n",
    "##### 概率是指一件事情发生的概率\n",
    "##### 如下图所示"
   ]
  },
  {
   "cell_type": "code",
   "execution_count": 53,
   "id": "795fa435",
   "metadata": {},
   "outputs": [
    {
     "data": {
      "text/html": [
       "<div>\n",
       "<style scoped>\n",
       "    .dataframe tbody tr th:only-of-type {\n",
       "        vertical-align: middle;\n",
       "    }\n",
       "\n",
       "    .dataframe tbody tr th {\n",
       "        vertical-align: top;\n",
       "    }\n",
       "\n",
       "    .dataframe thead th {\n",
       "        text-align: right;\n",
       "    }\n",
       "</style>\n",
       "<table border=\"1\" class=\"dataframe\">\n",
       "  <thead>\n",
       "    <tr style=\"text-align: right;\">\n",
       "      <th></th>\n",
       "      <th>编号</th>\n",
       "      <th>星期</th>\n",
       "      <th>华氏度</th>\n",
       "      <th>天气</th>\n",
       "    </tr>\n",
       "  </thead>\n",
       "  <tbody>\n",
       "    <tr>\n",
       "      <th>0</th>\n",
       "      <td>1</td>\n",
       "      <td>1</td>\n",
       "      <td>20</td>\n",
       "      <td>雨</td>\n",
       "    </tr>\n",
       "    <tr>\n",
       "      <th>1</th>\n",
       "      <td>2</td>\n",
       "      <td>2</td>\n",
       "      <td>24</td>\n",
       "      <td>晴</td>\n",
       "    </tr>\n",
       "    <tr>\n",
       "      <th>2</th>\n",
       "      <td>3</td>\n",
       "      <td>4</td>\n",
       "      <td>22</td>\n",
       "      <td>晴</td>\n",
       "    </tr>\n",
       "    <tr>\n",
       "      <th>3</th>\n",
       "      <td>4</td>\n",
       "      <td>5</td>\n",
       "      <td>19</td>\n",
       "      <td>雨</td>\n",
       "    </tr>\n",
       "    <tr>\n",
       "      <th>4</th>\n",
       "      <td>5</td>\n",
       "      <td>1</td>\n",
       "      <td>12</td>\n",
       "      <td>雪</td>\n",
       "    </tr>\n",
       "    <tr>\n",
       "      <th>5</th>\n",
       "      <td>6</td>\n",
       "      <td>2</td>\n",
       "      <td>40</td>\n",
       "      <td>晴</td>\n",
       "    </tr>\n",
       "    <tr>\n",
       "      <th>6</th>\n",
       "      <td>7</td>\n",
       "      <td>3</td>\n",
       "      <td>29</td>\n",
       "      <td>晴</td>\n",
       "    </tr>\n",
       "  </tbody>\n",
       "</table>\n",
       "</div>"
      ],
      "text/plain": [
       "   编号  星期  华氏度 天气\n",
       "0   1   1   20  雨\n",
       "1   2   2   24  晴\n",
       "2   3   4   22  晴\n",
       "3   4   5   19  雨\n",
       "4   5   1   12  雪\n",
       "5   6   2   40  晴\n",
       "6   7   3   29  晴"
      ]
     },
     "execution_count": 53,
     "metadata": {},
     "output_type": "execute_result"
    }
   ],
   "source": [
    "import pandas as pd\n",
    "id=[i for i in range(1,8)]\n",
    "dayWeek=[1,2,4,5,1,2,3]\n",
    "t=[20,24,22,19,12,40,29]\n",
    "weather=[\"雨\",\"晴\",\"晴\",\"雨\",\"雪\",\"晴\",\"晴\"]\n",
    "data=pd.DataFrame()\n",
    "data[\"编号\"]=id\n",
    "data[\"星期\"]=dayWeek\n",
    "data[\"华氏度\"]=t\n",
    "data[\"天气\"]=weather\n",
    "data"
   ]
  },
  {
   "cell_type": "code",
   "execution_count": 44,
   "id": "d94f7f91",
   "metadata": {},
   "outputs": [
    {
     "name": "stdout",
     "output_type": "stream",
     "text": [
      "(古典概率)天下雪的概率为： 0.14285714285714285\n"
     ]
    }
   ],
   "source": [
    "print(\"(古典概率)天下雪的概率为：\",sum((data[\"天气\"]==\"雪\")==True)/data.shape[0])"
   ]
  },
  {
   "cell_type": "code",
   "execution_count": 60,
   "id": "69cc4a0b",
   "metadata": {},
   "outputs": [
    {
     "name": "stdout",
     "output_type": "stream",
     "text": [
      "(联合概率)星期二天下雪的概率为： 0\n"
     ]
    }
   ],
   "source": [
    "print(\"(联合概率)星期二天下雪的概率为：\",0)"
   ]
  },
  {
   "cell_type": "markdown",
   "id": "bb1751f2",
   "metadata": {},
   "source": [
    "### 资源介绍：\n",
    "##### 1.加州大学欧文分校[数据库](http://archive.ics.uci.edu/ml)：包含200多个可以数据集\n",
    "##### 2.Amazon公开[数据库](https://registry.opendata.aws/),该数据库包含大量数据\n",
    "##### 3.一个政府公开的[数据库](https://www.data.gov/),该数据库主要包含一些被召回的产品信息\n",
    "##### 4.Infochimps公司公开的[数据集](https://dev.co/)\n"
   ]
  },
  {
   "cell_type": "code",
   "execution_count": null,
   "id": "cd69396a",
   "metadata": {},
   "outputs": [],
   "source": []
  }
 ],
 "metadata": {
  "kernelspec": {
   "display_name": "Python 3",
   "language": "python",
   "name": "python3"
  },
  "language_info": {
   "codemirror_mode": {
    "name": "ipython",
    "version": 3
   },
   "file_extension": ".py",
   "mimetype": "text/x-python",
   "name": "python",
   "nbconvert_exporter": "python",
   "pygments_lexer": "ipython3",
   "version": "3.9.5"
  }
 },
 "nbformat": 4,
 "nbformat_minor": 5
}
