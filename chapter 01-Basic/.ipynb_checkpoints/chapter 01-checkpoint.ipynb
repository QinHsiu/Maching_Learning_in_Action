{
 "cells": [
  {
   "cell_type": "markdown",
   "id": "37742457",
   "metadata": {},
   "source": [
    "# 机器学习介绍\n",
    "### 专家系统：用于某个专业领域的预测系统（例如预测鸟的种类）\n",
    "### 属性和特征：用于描述对象性质的一组数据（例如鸟的体重、颜色）\n",
    "### 机器学习的主要任务：分类和回归"
   ]
  },
  {
   "cell_type": "code",
   "execution_count": null,
   "id": "02f12797",
   "metadata": {},
   "outputs": [],
   "source": []
  },
  {
   "cell_type": "markdown",
   "id": "72ca6f89",
   "metadata": {},
   "source": [
    "### 开发机器学习应用程序的步骤\n",
    "##### 1.收集数据\n",
    "##### 2.准备输入数据\n",
    "##### 3.分析输入数据\n",
    "##### 4.训练算法\n",
    "##### 5.测试算法\n",
    "##### 6.使用算法\n",
    "\n",
    "### 安装python\n",
    "##### [安装链接](https://blog.csdn.net/qxyloveyy/article/details/104227923)\n",
    "##### 使用pip install 安装相关包\n",
    "##### 使用import 导入相关包\n"
   ]
  },
  {
   "cell_type": "code",
   "execution_count": 4,
   "id": "3bf565dc",
   "metadata": {},
   "outputs": [
    {
     "data": {
      "text/plain": [
       "matrix([[-2.22044605e-16, -1.46637486e-16, -8.50700469e-18,\n",
       "         -2.34893178e-17],\n",
       "        [ 8.59143682e-17,  2.22044605e-16, -1.05412260e-17,\n",
       "          1.23053969e-16],\n",
       "        [ 1.36571430e-16, -5.49527463e-17,  2.22044605e-16,\n",
       "         -6.86093344e-17],\n",
       "        [ 7.05397614e-17, -1.06210788e-16, -2.92690656e-16,\n",
       "          0.00000000e+00]])"
      ]
     },
     "execution_count": 4,
     "metadata": {},
     "output_type": "execute_result"
    }
   ],
   "source": [
    "\n",
    "import numpy\n",
    "from numpy import *\n",
    "\n",
    "# 一个4x4矩阵\n",
    "random.rand(4,4)\n",
    "randMat=mat(random.rand(4,4))\n",
    "# 矩阵转置\n",
    "Mat_t=randMat.T\n",
    "# 矩阵求逆\n",
    "Mat_i=randMat.I\n",
    "# 矩阵相乘\n",
    "m=Mat_i*randMat\n",
    "# m=numpt.dot(Mat_i,randMat)\n",
    "# 查看误差\n",
    "m-eye(4)\n"
   ]
  },
  {
   "cell_type": "code",
   "execution_count": null,
   "id": "eb66c51f",
   "metadata": {},
   "outputs": [],
   "source": []
  }
 ],
 "metadata": {
  "kernelspec": {
   "display_name": "Python 3",
   "language": "python",
   "name": "python3"
  },
  "language_info": {
   "codemirror_mode": {
    "name": "ipython",
    "version": 3
   },
   "file_extension": ".py",
   "mimetype": "text/x-python",
   "name": "python",
   "nbconvert_exporter": "python",
   "pygments_lexer": "ipython3",
   "version": "3.9.5"
  }
 },
 "nbformat": 4,
 "nbformat_minor": 5
}
