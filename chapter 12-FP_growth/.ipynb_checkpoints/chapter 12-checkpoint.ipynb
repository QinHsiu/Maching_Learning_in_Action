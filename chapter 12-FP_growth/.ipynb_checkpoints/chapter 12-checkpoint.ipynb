{
 "cells": [
  {
   "cell_type": "markdown",
   "id": "4628a254",
   "metadata": {},
   "source": [
    "### FP-growth算法\n",
    "##### 搜索引擎中自动补全输入项，形成”搜索词对”，这需要一种高效发现频繁项集集的方法\n",
    "##### Apriori算法会对于每一个潜在频繁项集都会扫描数据集判定该模式是否频繁\n",
    "##### FP-growth算法只需要对数据库进行两次扫描\n",
    "##### 基本步骤：构建FP树；从FP树中挖掘频繁项集"
   ]
  },
  {
   "cell_type": "markdown",
   "id": "15cf8584",
   "metadata": {},
   "source": [
    "### FP-growth算法优缺点：\n",
    "##### 优点：一般情况下快于Apriori\n",
    "##### 缺点：实现比较困难，在某些数据集上性能会下降\n",
    "##### 适用数据类型：标称型数据\n",
    "##### FP树与搜索树相比：一个元素项可以在FP树中出现多次，FP会存储项集的出现频率\n",
    "##### 每个项集会以路径方式存储在树中，相似项之间有节点链接，用于快速发现相似项"
   ]
  },
  {
   "cell_type": "code",
   "execution_count": 3,
   "id": "57d7cde9",
   "metadata": {},
   "outputs": [
    {
     "data": {
      "text/html": [
       "<div>\n",
       "<style scoped>\n",
       "    .dataframe tbody tr th:only-of-type {\n",
       "        vertical-align: middle;\n",
       "    }\n",
       "\n",
       "    .dataframe tbody tr th {\n",
       "        vertical-align: top;\n",
       "    }\n",
       "\n",
       "    .dataframe thead th {\n",
       "        text-align: right;\n",
       "    }\n",
       "</style>\n",
       "<table border=\"1\" class=\"dataframe\">\n",
       "  <thead>\n",
       "    <tr style=\"text-align: right;\">\n",
       "      <th></th>\n",
       "      <th>事务ID</th>\n",
       "      <th>事务中的元素项</th>\n",
       "    </tr>\n",
       "  </thead>\n",
       "  <tbody>\n",
       "    <tr>\n",
       "      <th>0</th>\n",
       "      <td>001</td>\n",
       "      <td>r,z,h,j,p</td>\n",
       "    </tr>\n",
       "    <tr>\n",
       "      <th>1</th>\n",
       "      <td>002</td>\n",
       "      <td>z,y,x,w,v,u,t,s</td>\n",
       "    </tr>\n",
       "    <tr>\n",
       "      <th>2</th>\n",
       "      <td>003</td>\n",
       "      <td>z</td>\n",
       "    </tr>\n",
       "    <tr>\n",
       "      <th>3</th>\n",
       "      <td>004</td>\n",
       "      <td>r,x,n,o,s</td>\n",
       "    </tr>\n",
       "    <tr>\n",
       "      <th>4</th>\n",
       "      <td>005</td>\n",
       "      <td>y,r,x,z,q,t,p</td>\n",
       "    </tr>\n",
       "    <tr>\n",
       "      <th>5</th>\n",
       "      <td>006</td>\n",
       "      <td>y,z,x,e,q,s,t,m</td>\n",
       "    </tr>\n",
       "  </tbody>\n",
       "</table>\n",
       "</div>"
      ],
      "text/plain": [
       "  事务ID          事务中的元素项\n",
       "0  001        r,z,h,j,p\n",
       "1  002  z,y,x,w,v,u,t,s\n",
       "2  003                z\n",
       "3  004        r,x,n,o,s\n",
       "4  005    y,r,x,z,q,t,p\n",
       "5  006  y,z,x,e,q,s,t,m"
      ]
     },
     "execution_count": 3,
     "metadata": {},
     "output_type": "execute_result"
    }
   ],
   "source": [
    "from numpy import*\n",
    "import pandas as pd\n",
    "def loadDataSet():\n",
    "    dataID=[str(0)+str(0)+str(i) for i in range(1,7)]\n",
    "    dataEle=['r,z,h,j,p','z,y,x,w,v,u,t,s','z','r,x,n,o,s','y,r,x,z,q,t,p','y,z,x,e,q,s,t,m']\n",
    "    data=pd.DataFrame()\n",
    "    data['事务ID']=dataID\n",
    "    data['事务中的元素项']=dataEle\n",
    "    # print(data)\n",
    "    return data\n",
    "loadDataSet()"
   ]
  },
  {
   "cell_type": "markdown",
   "id": "6672f6c4",
   "metadata": {},
   "source": [
    "##### 创建FP树的数据结构"
   ]
  },
  {
   "cell_type": "code",
   "execution_count": 7,
   "id": "bd7a2d8c",
   "metadata": {},
   "outputs": [
    {
     "name": "stdout",
     "output_type": "stream",
     "text": [
      "子节点信息：\n",
      "   pyramid   9\n",
      "     eye   13\n",
      "   pyramid   9\n",
      "     eye   13\n",
      "     phoenix   3\n"
     ]
    }
   ],
   "source": [
    "class treeNode:\n",
    "    def __init__(self, nameValue, numOccur, parentNode):\n",
    "        self.name = nameValue\n",
    "        self.count = numOccur\n",
    "        self.nodeLink = None\n",
    "        self.parent = parentNode      #needs to be updated\n",
    "        self.children = {} \n",
    "    \n",
    "    def inc(self, numOccur):\n",
    "        self.count += numOccur\n",
    "        \n",
    "    def disp(self, ind=1):\n",
    "        print( '  '*ind, self.name, ' ', self.count)\n",
    "        for child in self.children.values():\n",
    "            child.disp(ind+1)\n",
    "    \n",
    "def test():\n",
    "    rootNode=treeNode('pyramid',9,None)\n",
    "    rootNode.children['eye']=treeNode('eye',13,None)\n",
    "    print('子节点信息：')\n",
    "    rootNode.disp()\n",
    "    rootNode.children['phoenix']=treeNode('phoenix',3,None)\n",
    "    rootNode.disp()\n",
    "    \n",
    "test()\n"
   ]
  },
  {
   "cell_type": "markdown",
   "id": "e7419c47",
   "metadata": {},
   "source": [
    "##### FP构建函数"
   ]
  },
  {
   "cell_type": "code",
   "execution_count": 67,
   "id": "6be53ec5",
   "metadata": {},
   "outputs": [
    {
     "name": "stdout",
     "output_type": "stream",
     "text": [
      "   Null Set   1\n",
      "     z   5\n",
      "       r   1\n",
      "       x   3\n",
      "         t   1\n",
      "           s   1\n",
      "             y   1\n",
      "         r   1\n",
      "           t   1\n",
      "             y   1\n",
      "         s   1\n",
      "           t   1\n",
      "             y   1\n",
      "     x   1\n",
      "       r   1\n",
      "         s   1\n",
      "dict_keys(['r', 'z', 't', 'x', 's', 'y'])\n"
     ]
    }
   ],
   "source": [
    "def loadSimpDat():\n",
    "    simpDat = [['r', 'z', 'h', 'j', 'p'],\n",
    "               ['z', 'y', 'x', 'w', 'v', 'u', 't', 's'],\n",
    "               ['z'],\n",
    "               ['r', 'x', 'n', 'o', 's'],\n",
    "               ['y', 'r', 'x', 'z', 'q', 't', 'p'],\n",
    "               ['y', 'z', 'x', 'e', 'q', 's', 't', 'm']]\n",
    "    return simpDat\n",
    "\n",
    "def createInitSet(dataSet):\n",
    "    retDict = {}\n",
    "    for trans in dataSet:\n",
    "        retDict[frozenset(trans)] = 1\n",
    "    return retDict\n",
    "\n",
    "def createTree(dataSet, minSup=1): #create FP-tree from dataset but don't mine\n",
    "    headerTable = {}\n",
    "    #go over dataSet twice\n",
    "    for trans in dataSet:#first pass counts frequency of occurance\n",
    "        for item in trans:\n",
    "            # print(dataSet[trans])\n",
    "            headerTable[item] = headerTable.get(item, 0) + dataSet[trans]\n",
    "    \n",
    "\n",
    "    for k in list(headerTable.keys()):  #remove items not meeting minSup\n",
    "        if headerTable[k] < minSup:\n",
    "            # print(headerTable[k])\n",
    "            del(headerTable[k])\n",
    "    \n",
    "    freqItemSet = set(headerTable.keys())\n",
    "    #print('freqItemSet: ',freqItemSet)\n",
    "    if len(freqItemSet) == 0: \n",
    "        return None, None  #if no items meet min support -->get out\n",
    "    for k in headerTable:\n",
    "        headerTable[k] = [headerTable[k], None] #reformat headerTable to use Node link \n",
    "        \n",
    "    #print('headerTable: ',headerTable)\n",
    "    retTree = treeNode('Null Set', 1, None) #create tree\n",
    "    for tranSet, count in dataSet.items():  #go through dataset 2nd time\n",
    "        localD = {}\n",
    "        for item in tranSet:  #put transaction items in order\n",
    "            if item in freqItemSet:\n",
    "                localD[item] = headerTable[item][0]\n",
    "        if len(localD) > 0:\n",
    "            orderedItems = [v[0] for v in sorted(localD.items(), key=lambda p: p[1], reverse=True)]\n",
    "            updateTree(orderedItems, retTree, headerTable, count)#populate tree with ordered freq itemset\n",
    "    return retTree, headerTable #return tree and header table\n",
    "\n",
    "def updateTree(items, inTree, headerTable, count):\n",
    "    if items[0] in inTree.children:#check if orderedItems[0] in retTree.children\n",
    "        inTree.children[items[0]].inc(count) #incrament count\n",
    "    else:   #add items[0] to inTree.children\n",
    "        inTree.children[items[0]] = treeNode(items[0], count, inTree)\n",
    "        if headerTable[items[0]][1] == None: #update header table \n",
    "            headerTable[items[0]][1] = inTree.children[items[0]]\n",
    "            # print(inTree.children[items[0]],items[0])\n",
    "        else:\n",
    "            updateHeader(headerTable[items[0]][1], inTree.children[items[0]])\n",
    "    if len(items) > 1:#call updateTree() with remaining ordered items\n",
    "        updateTree(items[1::], inTree.children[items[0]], headerTable, count)\n",
    "        \n",
    "def updateHeader(nodeToTest, targetNode):   #this version does not use recursion\n",
    "    while (nodeToTest.nodeLink != None):    #Do not use recursion to traverse a linked list!\n",
    "        nodeToTest = nodeToTest.nodeLink\n",
    "    nodeToTest.nodeLink = targetNode\n",
    "    \n",
    "    \n",
    "\n",
    "def testFP():\n",
    "    simpData=loadSimpDat()\n",
    "    initSet=createInitSet(simpData)\n",
    "    myFPtree,myHeaderTab=createTree(initSet,3)\n",
    "    myFPtree.disp()\n",
    "    print(myHeaderTab.keys())\n",
    "    \n",
    "testFP()"
   ]
  },
  {
   "cell_type": "markdown",
   "id": "fd5645f6",
   "metadata": {},
   "source": [
    "### 从构建的FP树中挖掘频繁项集\n",
    "##### 步骤：1.从FP树上获得条件模式基\n",
    "##### 2.利用条件模式基，构建一个条件FP树\n",
    "##### 3.迭代1，2，直到树包含一个元素项为止\n",
    "##### 条件模式基：以所查元素项为结尾的路径集合，每一条路径都是一条前缀路径\n",
    "##### 前缀路径：介于所查元素项与树基之间的所有内容\n",
    "##### 下图是上述FP树的前缀路径图"
   ]
  },
  {
   "cell_type": "code",
   "execution_count": 60,
   "id": "a4057e0b",
   "metadata": {},
   "outputs": [
    {
     "name": "stdout",
     "output_type": "stream",
     "text": [
      "{'r': [3, <__main__.treeNode object at 0x0000023687940AC0>], 'z': [5, <__main__.treeNode object at 0x0000023687940400>], 't': [3, <__main__.treeNode object at 0x0000023687940340>], 'x': [4, <__main__.treeNode object at 0x0000023687940B80>], 's': [3, <__main__.treeNode object at 0x00000236879331F0>], 'y': [3, <__main__.treeNode object at 0x0000023687933EE0>]}\n"
     ]
    },
    {
     "data": {
      "text/html": [
       "<div>\n",
       "<style scoped>\n",
       "    .dataframe tbody tr th:only-of-type {\n",
       "        vertical-align: middle;\n",
       "    }\n",
       "\n",
       "    .dataframe tbody tr th {\n",
       "        vertical-align: top;\n",
       "    }\n",
       "\n",
       "    .dataframe thead th {\n",
       "        text-align: right;\n",
       "    }\n",
       "</style>\n",
       "<table border=\"1\" class=\"dataframe\">\n",
       "  <thead>\n",
       "    <tr style=\"text-align: right;\">\n",
       "      <th></th>\n",
       "      <th>频繁集</th>\n",
       "      <th>前缀路径</th>\n",
       "    </tr>\n",
       "  </thead>\n",
       "  <tbody>\n",
       "    <tr>\n",
       "      <th>0</th>\n",
       "      <td>z</td>\n",
       "      <td>{}5</td>\n",
       "    </tr>\n",
       "    <tr>\n",
       "      <th>1</th>\n",
       "      <td>r</td>\n",
       "      <td>{x,s}1,{z,x,y}1,{z}1</td>\n",
       "    </tr>\n",
       "    <tr>\n",
       "      <th>2</th>\n",
       "      <td>x</td>\n",
       "      <td>{z}3,{}1</td>\n",
       "    </tr>\n",
       "    <tr>\n",
       "      <th>3</th>\n",
       "      <td>y</td>\n",
       "      <td>{z,x}3</td>\n",
       "    </tr>\n",
       "    <tr>\n",
       "      <th>4</th>\n",
       "      <td>s</td>\n",
       "      <td>{z,x,y}2,{x}1</td>\n",
       "    </tr>\n",
       "    <tr>\n",
       "      <th>5</th>\n",
       "      <td>t</td>\n",
       "      <td>{z,x,y,s}2,{z,x,y,r}1</td>\n",
       "    </tr>\n",
       "  </tbody>\n",
       "</table>\n",
       "</div>"
      ],
      "text/plain": [
       "  频繁集                   前缀路径\n",
       "0   z                    {}5\n",
       "1   r   {x,s}1,{z,x,y}1,{z}1\n",
       "2   x               {z}3,{}1\n",
       "3   y                 {z,x}3\n",
       "4   s          {z,x,y}2,{x}1\n",
       "5   t  {z,x,y,s}2,{z,x,y,r}1"
      ]
     },
     "execution_count": 60,
     "metadata": {},
     "output_type": "execute_result"
    }
   ],
   "source": [
    "simpData=loadSimpDat()\n",
    "initSet=createInitSet(simpData)\n",
    "myFPtree,myHeaderTab=createTree(initSet,3)\n",
    "# print(myHeaderTab)\n",
    "#freqSet=list(myHeaderTab.keys())\n",
    "freqSet=['z','r','x','y','s','t']\n",
    "preWay=['{}5','{x,s}1,{z,x,y}1,{z}1','{z}3,{}1','{z,x}3','{z,x,y}2,{x}1','{z,x,y,s}2,{z,x,y,r}1']\n",
    "data=pd.DataFrame()\n",
    "data['频繁集']=freqSet\n",
    "data['前缀路径']=preWay\n",
    "data"
   ]
  },
  {
   "cell_type": "markdown",
   "id": "70d94adf",
   "metadata": {},
   "source": [
    "##### 迭代上溯整棵树"
   ]
  },
  {
   "cell_type": "code",
   "execution_count": 58,
   "id": "de572fc1",
   "metadata": {},
   "outputs": [
    {
     "name": "stdout",
     "output_type": "stream",
     "text": [
      "{frozenset({'z'}): 1, frozenset({'x'}): 1, frozenset({'z', 'x'}): 1}\n"
     ]
    }
   ],
   "source": [
    "def ascendTree(leafNode, prefixPath): #ascends from leaf node to root\n",
    "    if leafNode.parent != None:\n",
    "        prefixPath.append(leafNode.name)\n",
    "        ascendTree(leafNode.parent, prefixPath)\n",
    "    \n",
    "def findPrefixPath(basePat, treeNode): #treeNode comes from header table\n",
    "    condPats = {}\n",
    "    while treeNode != None:\n",
    "        prefixPath = []\n",
    "        ascendTree(treeNode, prefixPath)\n",
    "        if len(prefixPath) > 1: \n",
    "            condPats[frozenset(prefixPath[1:])] = treeNode.count\n",
    "        treeNode = treeNode.nodeLink\n",
    "    return condPats\n",
    "\n",
    "def test():\n",
    "    simpData=loadSimpDat()\n",
    "    initSet=createInitSet(simpData)\n",
    "    myFPtree,myHeaderTab=createTree(initSet,3)\n",
    "    res=findPrefixPath('x', myHeaderTab['x'][1])\n",
    "    res=findPrefixPath('z', myHeaderTab['z'][1])\n",
    "    res=findPrefixPath('r', myHeaderTab['r'][1])\n",
    "    print(res)\n",
    "test()"
   ]
  },
  {
   "cell_type": "markdown",
   "id": "dce7795f",
   "metadata": {},
   "source": [
    "### 创建条件FP树\n",
    "###### 对于每一个频繁集都需要创建一棵条件FP树\n",
    "###### 需通过递归来发现频繁项，发现条件模式基，以及发现另外的条件树"
   ]
  },
  {
   "cell_type": "code",
   "execution_count": 70,
   "id": "108ada75",
   "metadata": {},
   "outputs": [
    {
     "name": "stdout",
     "output_type": "stream",
     "text": [
      "conditional tree for:  {'s'}\n",
      "   Null Set   1\n",
      "     x   3\n",
      "conditional tree for:  {'t'}\n",
      "   Null Set   1\n",
      "     z   3\n",
      "       x   3\n",
      "conditional tree for:  {'x', 't'}\n",
      "   Null Set   1\n",
      "     z   3\n",
      "conditional tree for:  {'x'}\n",
      "   Null Set   1\n",
      "     z   3\n",
      "[{'r'}, {'s'}, {'x', 's'}, {'t'}, {'x', 't'}, {'z', 'x', 't'}, {'z', 't'}, {'x'}, {'z', 'x'}, {'y'}, {'z'}]\n"
     ]
    }
   ],
   "source": [
    "def mineTree(inTree, headerTable, minSup, preFix, freqItemList):\n",
    "    bigL = [v[0] for v in sorted(headerTable.items(), key=lambda p: p[0])]#(sort header table)\n",
    "    for basePat in bigL:  #start from bottom of header table\n",
    "        newFreqSet = preFix.copy()\n",
    "        newFreqSet.add(basePat)\n",
    "        #print('finalFrequent Item: ',newFreqSet)    #append to set\n",
    "        freqItemList.append(newFreqSet)\n",
    "        condPattBases = findPrefixPath(basePat, headerTable[basePat][1])\n",
    "        #print('condPattBases :',basePat, condPattBases)\n",
    "        #2. construct cond FP-tree from cond. pattern base\n",
    "        myCondTree, myHead = createTree(condPattBases, minSup)\n",
    "        #print('head from conditional tree: ', myHead)\n",
    "        if myHead != None: #3. mine cond. FP-tree\n",
    "            print('conditional tree for: ',newFreqSet)\n",
    "            myCondTree.disp(1)            \n",
    "            mineTree(myCondTree, myHead, minSup, newFreqSet, freqItemList)\n",
    "\n",
    "def test():\n",
    "    # 记录频繁项集\n",
    "    freqItems=[]\n",
    "    simpData=loadSimpDat()\n",
    "    initSet=createInitSet(simpData)\n",
    "    myFPtree,myHeaderTab=createTree(initSet,3)\n",
    "    mineTree(myFPtree,myHeaderTab,3,set([]),freqItems)\n",
    "    print(freqItems)\n",
    "    \n",
    "test()"
   ]
  },
  {
   "cell_type": "markdown",
   "id": "6d00733c",
   "metadata": {},
   "source": [
    "### 案例：从新闻网站点击流中挖掘\n",
    "##### 该数据集中包含用户和其浏览过的新闻（经过编码处理）"
   ]
  },
  {
   "cell_type": "code",
   "execution_count": 72,
   "id": "6fc79097",
   "metadata": {},
   "outputs": [
    {
     "name": "stdout",
     "output_type": "stream",
     "text": [
      "conditional tree for:  {'1'}\n",
      "   Null Set   1\n",
      "     6   107404\n",
      "conditional tree for:  {'11'}\n",
      "   Null Set   1\n",
      "     6   261773\n",
      "conditional tree for:  {'3'}\n",
      "   Null Set   1\n",
      "     6   186289\n",
      "       11   117401\n",
      "     11   9718\n",
      "conditional tree for:  {'11', '3'}\n",
      "   Null Set   1\n",
      "     6   117401\n",
      "[{'1'}, {'1', '6'}, {'11'}, {'11', '6'}, {'3'}, {'11', '3'}, {'11', '3', '6'}, {'3', '6'}, {'6'}]\n"
     ]
    }
   ],
   "source": [
    "def loadDataSet(filename):\n",
    "    with open(filename) as f:\n",
    "        tempData=f.readlines()\n",
    "    newsData=[]\n",
    "    for line in tempData:\n",
    "        newsData.append(line.strip().split())\n",
    "    initSet=createInitSet(newsData)\n",
    "    return initSet\n",
    "\n",
    "def test():\n",
    "    dataSet=loadDataSet(r'data/kosarak.dat')\n",
    "    myFPtree,myHeaderTab=createTree(dataSet,100000)\n",
    "    myFreqList=[]\n",
    "    mineTree(myFPtree,myHeaderTab,100000,set([]),myFreqList)\n",
    "    print(myFreqList)\n",
    "    \n",
    "test()\n",
    "\n"
   ]
  },
  {
   "cell_type": "markdown",
   "id": "7384dbf5",
   "metadata": {},
   "source": [
    "### 本章小结\n",
    "##### FP-growth算法是一种用于发现数据集中频繁模式的有效办法\n",
    "##### 在此算法中，数据集存储在一棵FP树中，FP树构建完成后，可以通过查找元素项的条件基来发现频繁项集"
   ]
  },
  {
   "cell_type": "code",
   "execution_count": null,
   "id": "9c39a882",
   "metadata": {},
   "outputs": [],
   "source": []
  }
 ],
 "metadata": {
  "kernelspec": {
   "display_name": "Python 3",
   "language": "python",
   "name": "python3"
  },
  "language_info": {
   "codemirror_mode": {
    "name": "ipython",
    "version": 3
   },
   "file_extension": ".py",
   "mimetype": "text/x-python",
   "name": "python",
   "nbconvert_exporter": "python",
   "pygments_lexer": "ipython3",
   "version": "3.9.5"
  }
 },
 "nbformat": 4,
 "nbformat_minor": 5
}
