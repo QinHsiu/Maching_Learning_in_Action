{
 "cells": [
  {
   "cell_type": "markdown",
   "id": "15ea9f01",
   "metadata": {},
   "source": [
    "# 元算法：将几种算法进行组合的一种方式\n",
    "# AdaBoost集成学习算法\n",
    "### 优点：泛化错误率低，易编码，可以应用在大部分编码器上，无参数调整\n",
    "### 缺点：对离群点敏感\n",
    "### 适用数据类型：数值型和标称型\n",
    "\n",
    "##### bagging：基于数据随机重抽样的分类器构建方法\n",
    "##### boosting aggression:自举汇聚法，从原始数据中选择S次得到S个新数据集，新数据集和原始数据集大小相等\n",
    "##### 更多资料参看：[资料](https://www.stat.berkeley.edu/~breiman/RandomForests/)\n",
    "##### boosting是一种与bagging类似的技术，两者所使用的分类器类型一直，只是分类器训练方式不同\n",
    "##### boosting训练器是通过观察已有的分类器错分的那些数据来获取新的分类器，boosting分类的结果是基于所有分类器的加权求和结果\n",
    "##### bagging训练器是通过串行训练而获得，每个新分类器都是根据已经训练好的分类器的性能来进行训练，bagging的权重相等\n",
    "\n",
    "##### AdaBoost一般流程\n",
    "##### 搜集数据\n",
    "##### 准备数据：依赖于所使用的弱分类器类型\n",
    "##### 分析数据\n",
    "##### 训练算法：AdaBoost大部分开销用在训练上，分类器将多次在同一数据集上训练\n",
    "##### 测试算法：计算分类错误率\n",
    "##### 使用算法：同SVM一样，AdaBoost用于二分类，要用于多分类需要进行修改\n",
    "\n",
    "##### 训练算法：机遇错误提升分类器的性能\n",
    "##### “弱”分类器中“弱”是指分类器的性能比随机猜测要略好\n",
    "##### 具体步骤：首先在训练集上训练一个弱分类器并计算错误率，然后在同一数据集上再次训练弱分类器\n",
    "##### 在第二次训练中调整每个样本的权重，AdaBoost为每个分类器都定义了一个权重值alpha，alpha=1/2*(ln((1-e)/e))，其中e表示错误率\n",
    "##### 计算出alpha后对权重进行更新，如果分类器分类正确就降低其权重，分类错误就提升其权重\n"
   ]
  },
  {
   "cell_type": "code",
   "execution_count": 46,
   "id": "32fcad7c",
   "metadata": {},
   "outputs": [
    {
     "data": {
      "image/png": "[encoded data removed]",
      "text/plain": [
       "<Figure size 432x288 with 1 Axes>"
      ]
     },
     "metadata": {
      "needs_background": "light"
     },
     "output_type": "display_data"
    }
   ],
   "source": [
    "\n",
    "from numpy import* \n",
    "##### 基于单层决策树构建弱分类器\n",
    "def loadSimpData():\n",
    "    datMat = matrix([[ 1. ,  2.1],\n",
    "        [ 2. ,  1.1],\n",
    "        [ 1.3,  1. ],\n",
    "        [ 1. ,  1. ],\n",
    "        [ 2. ,  1. ]])\n",
    "    classLabels = [1.0, 1.0, -1.0, -1.0, 1.0]\n",
    "    return datMat,classLabels\n",
    "\n",
    "# 查看数据分布\n",
    "import matplotlib.pyplot as plt\n",
    "def showP(datMat,classLbels):\n",
    "    xcord0 = []\n",
    "    ycord0 = []\n",
    "    xcord1 = []\n",
    "    ycord1 = []\n",
    "    markers =[]\n",
    "    colors =[]\n",
    "    for i in range(len(classLabels)):\n",
    "        if classLabels[i]==1.0:\n",
    "            xcord1.append(datMat[i,0]), ycord1.append(datMat[i,1])\n",
    "        else:\n",
    "            xcord0.append(datMat[i,0]), ycord0.append(datMat[i,1])\n",
    "    fig = plt.figure()\n",
    "    ax = fig.add_subplot(111)       \n",
    "    ax.scatter(xcord0,ycord0, marker='s', s=90)\n",
    "    plt.rcParams['font.sans-serif']=['SimHei']\n",
    "    plt.rcParams['axes.unicode_minus'] = False\n",
    "    ax.scatter(xcord1,ycord1, marker='o', s=50, c='red')\n",
    "    plt.title('Decision Stump Test Data')\n",
    "    plt.show()\n",
    "\n",
    "    \n",
    "dataMat,classLabels=loadSimpData()\n",
    "showP(dataMat,classLabels)\n",
    "    \n",
    "\n"
   ]
  },
  {
   "cell_type": "markdown",
   "id": "b9d074ff",
   "metadata": {},
   "source": [
    "# 建立单层决策树\n",
    "### 伪代码如下：\n",
    "### 用+无穷初始化最下错误率\n",
    "### 对数据集中的每一个特征（第一层循环）：\n",
    "     对每个步长（第二层循环）：\n",
    "         对每个不等号（第三层循环）：\n",
    "             建立一棵单层决策树并利用加权数据集对它进行预测\n",
    "             如果错误率低于最小错误率，则将当前单层决策树设为最佳单层决策树\n",
    "### 返回最佳决策树\n",
    "\n",
    "### 该函数通过阈值比较对数据进行分类，所有在阈值一边的会分类到类别-1，而在另外一边就分类到+1\n",
    "### 该函数通过数据过滤来实现"
   ]
  },
  {
   "cell_type": "code",
   "execution_count": 47,
   "id": "bd59956f",
   "metadata": {},
   "outputs": [
    {
     "data": {
      "text/plain": [
       "({'dim': 0, 'thresh': 1.3, 'ineq': 'lt'},\n",
       " matrix([[0.2]]),\n",
       " array([[-1.],\n",
       "        [ 1.],\n",
       "        [-1.],\n",
       "        [-1.],\n",
       "        [ 1.]]))"
      ]
     },
     "execution_count": 47,
     "metadata": {},
     "output_type": "execute_result"
    }
   ],
   "source": [
    "\n",
    "def stumpClassify(dataMatrix,dimen,threshVal,threshIneq):#just classify the data\n",
    "    # 将返回数组所有值设为1，然后将所有满足不等式要求的元素设置为-1\n",
    "    retArray = ones((shape(dataMatrix)[0],1))\n",
    "    # 基于输入参数返回分类预测结果\n",
    "    if threshIneq == 'lt':\n",
    "        retArray[dataMatrix[:,dimen] <= threshVal] = -1.0\n",
    "    else:\n",
    "        retArray[dataMatrix[:,dimen] > threshVal] = -1.0\n",
    "    return retArray\n",
    "    \n",
    "\n",
    "def buildStump(dataArr,classLabels,D):\n",
    "    dataMatrix = mat(dataArr); labelMat = mat(classLabels).T\n",
    "    m,n = shape(dataMatrix)\n",
    "    # bestStump字典用于存放给定权重向量D时所得到的最佳决策树的相关信息\n",
    "    # numSteps用于在特征所有可能值上进行遍历\n",
    "    numSteps = 10.0; bestStump = {}; bestClasEst = mat(zeros((m,1)))\n",
    "    minError = inf #init error sum, to +infinity\n",
    "    # 遍历stumpClassify()函数所有可能的输入值，并找到最佳单层决策树\n",
    "    for i in range(n):#loop over all dimensions\n",
    "        rangeMin = dataMatrix[:,i].min(); rangeMax = dataMatrix[:,i].max();\n",
    "        # 步长\n",
    "        stepSize = (rangeMax-rangeMin)/numSteps\n",
    "        for j in range(-1,int(numSteps)+1):#loop over all range in current dimension\n",
    "            # 在大于与小于之间切换不等式\n",
    "            for inequal in ['lt', 'gt']: #go over less than and greater than\n",
    "                threshVal = (rangeMin + float(j) * stepSize)\n",
    "                # 分类预测结果\n",
    "                predictedVals = stumpClassify(dataMatrix,i,threshVal,inequal)#call stump classify with i, j, lessThan\n",
    "                # 用于记录分类错误的相应位置\n",
    "                errArr = mat(ones((m,1)))\n",
    "                errArr[predictedVals == labelMat] = 0\n",
    "                # 通过初始权重与错误矩阵相乘得到错误值\n",
    "                weightedError = D.T*errArr  #calc total error multiplied by D\n",
    "                # print(\"split: dim %d, thresh %.2f, thresh ineqal: %s, the weighted error is %.3f\" % (i, threshVal, inequal, weightedError))\n",
    "                # 将其与最小错误率进行比较\n",
    "                if weightedError < minError:\n",
    "                    minError = weightedError\n",
    "                    bestClasEst = predictedVals.copy()\n",
    "                    bestStump['dim'] = i\n",
    "                    bestStump['thresh'] = threshVal\n",
    "                    bestStump['ineq'] = inequal\n",
    "    # 返回字典、错误率和预测结果\n",
    "    return bestStump,minError,bestClasEst\n",
    "\n",
    "D=mat(ones((5,1))/5)\n",
    "buildStump(dataMat,classLabels,D)\n"
   ]
  },
  {
   "cell_type": "markdown",
   "id": "251b6686",
   "metadata": {},
   "source": [
    "# 完整AdaBoost实现\n",
    "### 伪代码如下：\n",
    "### 对于每次迭代：\n",
    "     利用buildStump()函数找到最佳决策单层树\n",
    "     将最佳决策单层树加入到单层决策树数组\n",
    "     计算alpha\n",
    "     计算新的权重向量D\n",
    "     跟新累计类别估计值\n",
    "     如果错误率在要求范围内（含0）推出循环\n",
    "\n"
   ]
  },
  {
   "cell_type": "code",
   "execution_count": 48,
   "id": "8816c783",
   "metadata": {},
   "outputs": [
    {
     "data": {
      "text/plain": [
       "[{'dim': 0, 'thresh': 1.3, 'ineq': 'lt', 'alpha': 0.6931471805599453},\n",
       " {'dim': 1, 'thresh': 1.0, 'ineq': 'lt', 'alpha': 0.9729550745276565},\n",
       " {'dim': 0, 'thresh': 0.9, 'ineq': 'lt', 'alpha': 0.8958797346140273}]"
      ]
     },
     "execution_count": 48,
     "metadata": {},
     "output_type": "execute_result"
    }
   ],
   "source": [
    "\n",
    "\n",
    "def adaBoostTrainDS(dataArr,classLabels,numIt=40):\n",
    "    weakClassArr = []\n",
    "    m = shape(dataArr)[0]\n",
    "    D = mat(ones((m,1))/m)   #init D to all equal\n",
    "    aggClassEst = mat(zeros((m,1)))\n",
    "    # 设置最大迭代次数\n",
    "    for i in range(numIt):\n",
    "        bestStump,error,classEst = buildStump(dataArr,classLabels,D)#build Stump\n",
    "        #print(\"D:\",D.T)\n",
    "        alpha = float(0.5*log((1.0-error)/max(error,1e-16)))#calc alpha, throw in max(error,eps) to account for error=0\n",
    "        # 该字典包含了分类所需要的所有信息\n",
    "        bestStump['alpha'] = alpha  \n",
    "        weakClassArr.append(bestStump)                  #store Stump Params in Array\n",
    "        #print(\"classEst: \",classEst.T)\n",
    "        expon = multiply(-1*alpha*mat(classLabels).T,classEst) #exponent for D calc, getting messy\n",
    "        D = multiply(D,exp(expon))                              #Calc New D for next iteration\n",
    "        D = D/D.sum()\n",
    "        #calc training error of all classifiers, if this is 0 quit for loop early (use break)\n",
    "        aggClassEst += alpha*classEst\n",
    "        #print(\"aggClassEst: \",aggClassEst.T)\n",
    "        # 错误率累加计算\n",
    "        aggErrors = multiply(sign(aggClassEst) != mat(classLabels).T,ones((m,1)))\n",
    "        errorRate = aggErrors.sum()/m\n",
    "        # print(\"total error: \",errorRate)\n",
    "        # 如果错误率为0直接推出循环\n",
    "        if errorRate == 0.0:\n",
    "            break\n",
    "    return weakClassArr\n",
    "\n",
    "\n",
    "adaBoostTrainDS(dataMat,classLabels,9)"
   ]
  },
  {
   "cell_type": "code",
   "execution_count": 49,
   "id": "2d8897e8",
   "metadata": {},
   "outputs": [],
   "source": [
    "# 测试算法：基于AdaBoost的分类\n",
    "def adaClassify(datToClass,classifierArr):\n",
    "    dataMatrix = mat(datToClass)#do stuff similar to last aggClassEst in adaBoostTrainDS\n",
    "    m = shape(dataMatrix)[0]\n",
    "    aggClassEst = mat(zeros((m,1)))\n",
    "    for i in range(len(classifierArr)):\n",
    "        classEst = stumpClassify(dataMatrix, classifierArr[i]['dim'],\\\n",
    "                                 classifierArr[i]['thresh'],\\\n",
    "                                 classifierArr[i]['ineq'])#call stump classify\n",
    "        aggClassEst += classifierArr[i]['alpha']*classEst\n",
    "        # print(aggClassEst)\n",
    "    return sign(aggClassEst)\n",
    "\n",
    "classifierArr=adaBoostTrainDS(dataMat,classLabels,30)\n",
    "# print(adaClassify([[5,5],[0,0]],classifierArr))"
   ]
  },
  {
   "cell_type": "markdown",
   "id": "7d744531",
   "metadata": {},
   "source": [
    "# 在一个难数据集上应用AdaBoost\n",
    "### 搜集数据：从文本读取\n",
    "### 准备数据：确保类别标签属于{-1,1}\n",
    "### 分析数据：检查数据\n",
    "### 训练算法：利用训练器训练出分类器\n",
    "### 测试算法：对AdaBosst和逻辑回归的结果进行比较\n",
    "### 使用算法：观察错误率\n"
   ]
  },
  {
   "cell_type": "code",
   "execution_count": 57,
   "id": "3a589af5",
   "metadata": {},
   "outputs": [
    {
     "name": "stdout",
     "output_type": "stream",
     "text": [
      "分类器数目    训练错误率    测试错误率\n",
      "1             0.28             0.27\n",
      "10             0.23             0.24\n",
      "50             0.19             0.21\n",
      "100             0.19             0.22\n",
      "500             0.16             0.25\n"
     ]
    }
   ],
   "source": [
    "\n",
    "\n",
    "def loadDataSet(fileName):      #general function to parse tab -delimited floats\n",
    "    numFeat = len(open(fileName).readline().split('\\t')) #get number of fields \n",
    "    dataMat = []; labelMat = []\n",
    "    fr = open(fileName)\n",
    "    for line in fr.readlines():\n",
    "        lineArr =[]\n",
    "        curLine = line.strip().split('\\t')\n",
    "        for i in range(numFeat-1):\n",
    "            lineArr.append(float(curLine[i]))\n",
    "        dataMat.append(lineArr)\n",
    "        labelMat.append(float(curLine[-1]))\n",
    "    return dataMat,labelMat\n",
    "\n",
    "dataMat,classLabels=loadDataSet(r'horseColicTraining2.txt')\n",
    "# print(shape(dataMat))\n",
    "testMat,testLabels=loadDataSet(r'horseColicTest2.txt')\n",
    "# print(shape(testMat))\n",
    "print(\"分类器数目    训练错误率    测试错误率\")\n",
    "for i in [1,10,50,100,500]:\n",
    "    # 获取分类器\n",
    "    classifierArr=adaBoostTrainDS(dataMat,classLabels,i)\n",
    "    # 使用训练好的分类器进行训练\n",
    "    trainR=adaClassify(dataMat,classifierArr)\n",
    "    prediction=adaClassify(testMat,classifierArr)\n",
    "    # 预测错误结果\n",
    "    errorArr=mat(ones((67,1)))\n",
    "    errorArr[prediction!=mat(testLabels).T].sum()\n",
    "    # 训练错误结果\n",
    "    errorArr1=mat(ones((299,1)))\n",
    "    errorArr1[trainR!=mat(classLabels).T].sum()\n",
    "    a=i\n",
    "    b=errorArr1[trainR!=mat(classLabels).T].sum()/299\n",
    "    c=errorArr[prediction!=mat(testLabels).T].sum()/67\n",
    "    print(\"%d             %.2f             %.2f\"%(a,b,c),end=\"\\n\")\n",
    "\n",
    "### 从错误率中可以看出训练错误率一直在下降，但是测试错误率先下降后上升，这就是过拟合现象\n",
    "### "
   ]
  },
  {
   "cell_type": "markdown",
   "id": "b2faf9c3",
   "metadata": {},
   "source": [
    "# 非均衡分类问题：在大多数情况下不同类别的分类代价不同\n",
    "### 分类度量指标：正确率、召回率、ROC曲线\n",
    "### 可以通过混淆矩阵观察分类中的错误情况\n",
    "### 当某个类别重要性高于其他类别时，可以利用上述指标来进行抉择\n",
    "### ROC曲线不但可以用于比较分类，还可以基于成本效益分析来做出决策\n",
    "### 对于不同ROC曲线的一个比较指标就是曲线下面积，AUC，其代表分类器的平均性能值"
   ]
  },
  {
   "cell_type": "code",
   "execution_count": 58,
   "id": "813ce991",
   "metadata": {},
   "outputs": [
    {
     "data": {
      "image/png": "[encoded data removed]",
      "text/plain": [
       "<Figure size 432x288 with 1 Axes>"
      ]
     },
     "metadata": {
      "needs_background": "light"
     },
     "output_type": "display_data"
    },
    {
     "name": "stdout",
     "output_type": "stream",
     "text": [
      "the Area Under the Curve is:  0.8582969635063604\n"
     ]
    }
   ],
   "source": [
    "\n",
    "\n",
    "\n",
    "def adaBoostTrainDS(dataArr,classLabels,numIt=40):\n",
    "    weakClassArr = []\n",
    "    m = shape(dataArr)[0]\n",
    "    D = mat(ones((m,1))/m)   #init D to all equal\n",
    "    aggClassEst = mat(zeros((m,1)))\n",
    "    # 设置最大迭代次数\n",
    "    for i in range(numIt):\n",
    "        bestStump,error,classEst = buildStump(dataArr,classLabels,D)#build Stump\n",
    "        #print(\"D:\",D.T)\n",
    "        alpha = float(0.5*log((1.0-error)/max(error,1e-16)))#calc alpha, throw in max(error,eps) to account for error=0\n",
    "        # 该字典包含了分类所需要的所有信息\n",
    "        bestStump['alpha'] = alpha  \n",
    "        weakClassArr.append(bestStump)                  #store Stump Params in Array\n",
    "        #print(\"classEst: \",classEst.T)\n",
    "        expon = multiply(-1*alpha*mat(classLabels).T,classEst) #exponent for D calc, getting messy\n",
    "        D = multiply(D,exp(expon))                              #Calc New D for next iteration\n",
    "        D = D/D.sum()\n",
    "        #calc training error of all classifiers, if this is 0 quit for loop early (use break)\n",
    "        aggClassEst += alpha*classEst\n",
    "        #print(\"aggClassEst: \",aggClassEst.T)\n",
    "        # 错误率累加计算\n",
    "        aggErrors = multiply(sign(aggClassEst) != mat(classLabels).T,ones((m,1)))\n",
    "        errorRate = aggErrors.sum()/m\n",
    "        # print(\"total error: \",errorRate)\n",
    "        # 如果错误率为0直接推出循环\n",
    "        if errorRate == 0.0:\n",
    "            break\n",
    "    return weakClassArr,aggClassEst\n",
    "\n",
    "dataArr,labelArr=loadDataSet(r'horseColicTraining2.txt')\n",
    "classifierArr,aggClassEst=adaBoostTrainDS(dataMat,classLabels,10)\n",
    "    \n",
    "\n",
    "# 两个参数分别为分类器预测强度、类标签\n",
    "def plotROC(predStrengths, classLabels):\n",
    "    import matplotlib.pyplot as plt\n",
    "    cur = (1.0,1.0) #cursor\n",
    "    # ySum用于计算AUC值\n",
    "    ySum = 0.0 #variable to calculate AUC\n",
    "    numPosClas = sum(array(classLabels)==1.0)\n",
    "    # 获取真、假样例总数\n",
    "    yStep = 1/float(numPosClas); xStep = 1/float(len(classLabels)-numPosClas)\n",
    "    # 将分类样例按照其预测强度进行排序，从排名最低的样例开始，所有排名更低的样例都被判别为反例，反则判别为正例\n",
    "    # 获取排好序的索引\n",
    "    sortedIndicies = predStrengths.argsort()#get sorted index, it's reverse\n",
    "    fig = plt.figure()\n",
    "    fig.clf()\n",
    "    ax = plt.subplot(111)\n",
    "    #loop through all the values, drawing a line segment at each point\n",
    "    # 如果该样例为正例，对真正率进行修改，如果该样例属于反例，就对假正率进行修改\n",
    "    for index in sortedIndicies.tolist()[0]:\n",
    "        if classLabels[index] == 1.0:\n",
    "            delX = 0; delY = yStep;\n",
    "        else:\n",
    "            delX = xStep; delY = 0;\n",
    "            ySum += cur[1]\n",
    "        #draw line from cur to (cur[0]-delX,cur[1]-delY)\n",
    "        ax.plot([cur[0],cur[0]-delX],[cur[1],cur[1]-delY], c='b')\n",
    "        cur = (cur[0]-delX,cur[1]-delY)\n",
    "    ax.plot([0,1],[0,1],'b--')\n",
    "    plt.xlabel('False positive rate'); plt.ylabel('True positive rate')\n",
    "    plt.title('ROC curve for AdaBoost horse colic detection system')\n",
    "    ax.axis([0,1,0,1])\n",
    "    plt.show()\n",
    "    print(\"the Area Under the Curve is: \",ySum*xStep)\n",
    "\n",
    "plotROC(aggClassEst.T,classLabels)"
   ]
  },
  {
   "cell_type": "markdown",
   "id": "7b650755",
   "metadata": {},
   "source": [
    "# 基于代价函数的分类器决策控制\n",
    "### 除了调节分类器的阈值之外，还有一些其他用于处理非均衡分类代价的方法\n",
    "### 代价敏感学习：在AdaBoost中可以基于代价函数来调整错误权重向量D\n",
    "### 在SVM中可以在代价函数中对于不同类别选择不同的参数C\n",
    "### 在朴素贝叶斯中，可以选择具有最小期望代价而不是最大概率的类别作为最后结果\n",
    "\n",
    "\n",
    "# 处理非均衡问题的数据抽样方法\n",
    "### 对分类器的训练数据进行改造，可以通过欠抽样或者过抽样来实现\n",
    "### 欠抽样：意味着删除样例\n",
    "### 过抽样：意味着复制样例，复制已有样例或者加入已有样例相似的点，一种方法是加入已有数据点的插值点，可能会导致过拟合\n",
    "\n",
    "# 本章小结\n",
    "### 集成方法通过组合多个分类器的分类结果，获取比单分类更好的结果\n",
    "### bagging是通过随机抽样的替换方式，得到了与原始数据规模一样的数据集\n",
    "### boosting在bagging基础上，在数据集上顺序运用了多个不同的分类器\n",
    "### 随机森林也是一种集成学习方法\n",
    "### AdaBoost以弱学习器作为基分类器，并且输入数据，使其通过权重向量进行加权，第一次迭代时，所有数据都等权\n",
    "### 在后续迭代中，前次迭代中错分的数据的权重会增大，针对错误进行调节\n"
   ]
  },
  {
   "cell_type": "code",
   "execution_count": null,
   "id": "5189927e",
   "metadata": {},
   "outputs": [],
   "source": []
  }
 ],
 "metadata": {
  "kernelspec": {
   "display_name": "Python 3",
   "language": "python",
   "name": "python3"
  },
  "language_info": {
   "codemirror_mode": {
    "name": "ipython",
    "version": 3
   },
   "file_extension": ".py",
   "mimetype": "text/x-python",
   "name": "python",
   "nbconvert_exporter": "python",
   "pygments_lexer": "ipython3",
   "version": "3.9.5"
  }
 },
 "nbformat": 4,
 "nbformat_minor": 5
}
