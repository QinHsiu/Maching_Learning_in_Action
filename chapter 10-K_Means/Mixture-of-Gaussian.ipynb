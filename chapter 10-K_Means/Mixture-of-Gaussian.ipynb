{
 "cells": [
  {
   "cell_type": "code",
   "execution_count": 129,
   "id": "d44f774f",
   "metadata": {},
   "outputs": [
    {
     "data": {
      "text/html": [
       "<div>\n",
       "<style scoped>\n",
       "    .dataframe tbody tr th:only-of-type {\n",
       "        vertical-align: middle;\n",
       "    }\n",
       "\n",
       "    .dataframe tbody tr th {\n",
       "        vertical-align: top;\n",
       "    }\n",
       "\n",
       "    .dataframe thead th {\n",
       "        text-align: right;\n",
       "    }\n",
       "</style>\n",
       "<table border=\"1\" class=\"dataframe\">\n",
       "  <thead>\n",
       "    <tr style=\"text-align: right;\">\n",
       "      <th></th>\n",
       "      <th>id</th>\n",
       "      <th>density</th>\n",
       "      <th>sugar</th>\n",
       "    </tr>\n",
       "  </thead>\n",
       "  <tbody>\n",
       "    <tr>\n",
       "      <th>0</th>\n",
       "      <td>1</td>\n",
       "      <td>0.697</td>\n",
       "      <td>0.460</td>\n",
       "    </tr>\n",
       "    <tr>\n",
       "      <th>1</th>\n",
       "      <td>2</td>\n",
       "      <td>0.774</td>\n",
       "      <td>0.376</td>\n",
       "    </tr>\n",
       "    <tr>\n",
       "      <th>2</th>\n",
       "      <td>3</td>\n",
       "      <td>0.634</td>\n",
       "      <td>0.264</td>\n",
       "    </tr>\n",
       "    <tr>\n",
       "      <th>3</th>\n",
       "      <td>4</td>\n",
       "      <td>0.608</td>\n",
       "      <td>0.318</td>\n",
       "    </tr>\n",
       "    <tr>\n",
       "      <th>4</th>\n",
       "      <td>5</td>\n",
       "      <td>0.556</td>\n",
       "      <td>0.215</td>\n",
       "    </tr>\n",
       "  </tbody>\n",
       "</table>\n",
       "</div>"
      ],
      "text/plain": [
       "   id  density  sugar\n",
       "0   1    0.697  0.460\n",
       "1   2    0.774  0.376\n",
       "2   3    0.634  0.264\n",
       "3   4    0.608  0.318\n",
       "4   5    0.556  0.215"
      ]
     },
     "execution_count": 129,
     "metadata": {},
     "output_type": "execute_result"
    }
   ],
   "source": [
    "# 本次数据使用西瓜书上西瓜数据集4.0\n",
    "import pandas as pd\n",
    "data=pd.read_csv('watermelon4.0.txt')\n",
    "data.head()"
   ]
  },
  {
   "cell_type": "code",
   "execution_count": 130,
   "id": "c06b8946",
   "metadata": {},
   "outputs": [
    {
     "name": "stdout",
     "output_type": "stream",
     "text": [
      "<class 'pandas.core.frame.DataFrame'>\n",
      "RangeIndex: 30 entries, 0 to 29\n",
      "Data columns (total 3 columns):\n",
      " #   Column   Non-Null Count  Dtype  \n",
      "---  ------   --------------  -----  \n",
      " 0   id       30 non-null     int64  \n",
      " 1   density  30 non-null     float64\n",
      " 2   sugar    30 non-null     float64\n",
      "dtypes: float64(2), int64(1)\n",
      "memory usage: 848.0 bytes\n"
     ]
    }
   ],
   "source": [
    "data.info()"
   ]
  },
  {
   "cell_type": "code",
   "execution_count": 131,
   "id": "03a90274",
   "metadata": {},
   "outputs": [
    {
     "data": {
      "text/plain": [
       "30"
      ]
     },
     "execution_count": 131,
     "metadata": {},
     "output_type": "execute_result"
    }
   ],
   "source": [
    "# 样本数\n",
    "n_sample=data.shape[0]\n",
    "n_sample"
   ]
  },
  {
   "cell_type": "code",
   "execution_count": 132,
   "id": "3ba2cad3",
   "metadata": {},
   "outputs": [
    {
     "data": {
      "text/plain": [
       "2"
      ]
     },
     "execution_count": 132,
     "metadata": {},
     "output_type": "execute_result"
    }
   ],
   "source": [
    "# 特征数(密度和含糖量)\n",
    "n_features=data.shape[1]-1\n",
    "n_features"
   ]
  },
  {
   "cell_type": "code",
   "execution_count": 133,
   "id": "0b3cd567",
   "metadata": {},
   "outputs": [],
   "source": [
    "# 设置超参数，也即初始化原型向量个数\n",
    "n_clusters=3"
   ]
  },
  {
   "cell_type": "code",
   "execution_count": 134,
   "id": "ac5e7597",
   "metadata": {},
   "outputs": [
    {
     "data": {
      "text/plain": [
       "array([0.33333333, 0.33333333, 0.33333333])"
      ]
     },
     "execution_count": 134,
     "metadata": {},
     "output_type": "execute_result"
    }
   ],
   "source": [
    "# 初始化设置\n",
    "import numpy as np\n",
    "alpha=np.ones(n_clusters)/n_clusters\n",
    "alpha"
   ]
  },
  {
   "cell_type": "code",
   "execution_count": 135,
   "id": "20e88bff",
   "metadata": {},
   "outputs": [
    {
     "data": {
      "text/plain": [
       "array([[0.403, 0.237],\n",
       "       [0.714, 0.346],\n",
       "       [0.532, 0.472]])"
      ]
     },
     "execution_count": 135,
     "metadata": {},
     "output_type": "execute_result"
    }
   ],
   "source": [
    "# 初始化三个簇的值\n",
    "mu_list=[]\n",
    "for i in [6,22,27]:\n",
    "    mu_list.append([data['density'][i-1],data['sugar'][i-1]])\n",
    "mu=np.array(mu_list)\n",
    "mu"
   ]
  },
  {
   "cell_type": "code",
   "execution_count": 136,
   "id": "47f1b34f",
   "metadata": {},
   "outputs": [
    {
     "data": {
      "text/plain": [
       "array([[[0.1, 0. ],\n",
       "        [0. , 0.1]],\n",
       "\n",
       "       [[0.1, 0. ],\n",
       "        [0. , 0.1]],\n",
       "\n",
       "       [[0.1, 0. ],\n",
       "        [0. , 0.1]]])"
      ]
     },
     "execution_count": 136,
     "metadata": {},
     "output_type": "execute_result"
    }
   ],
   "source": [
    "# 假设三者独立，初始化三个协方差矩阵\n",
    "sigma=np.full((n_clusters,n_features,n_features),np.diag(np.full(n_features,0.1)))\n",
    "sigma"
   ]
  },
  {
   "cell_type": "code",
   "execution_count": 137,
   "id": "26eb4782",
   "metadata": {},
   "outputs": [],
   "source": [
    "# 计算数组行列式\n",
    "l=np.linalg.det(sigma[0])"
   ]
  },
  {
   "cell_type": "code",
   "execution_count": 138,
   "id": "13b6995b",
   "metadata": {},
   "outputs": [
    {
     "data": {
      "text/plain": [
       "0.10000000000000002"
      ]
     },
     "execution_count": 138,
     "metadata": {},
     "output_type": "execute_result"
    }
   ],
   "source": [
    "# 行列式结果开根号\n",
    "pow(l,0.5)"
   ]
  },
  {
   "cell_type": "code",
   "execution_count": 139,
   "id": "0f22072c",
   "metadata": {},
   "outputs": [
    {
     "data": {
      "text/plain": [
       "array([0.294, 0.223])"
      ]
     },
     "execution_count": 139,
     "metadata": {},
     "output_type": "execute_result"
    }
   ],
   "source": [
    "X=data.values[:,1:]\n",
    "X[0]-mu[0]"
   ]
  },
  {
   "cell_type": "code",
   "execution_count": 140,
   "id": "18674b87",
   "metadata": {},
   "outputs": [
    {
     "data": {
      "text/plain": [
       "0.8056410577755263"
      ]
     },
     "execution_count": 140,
     "metadata": {},
     "output_type": "execute_result"
    }
   ],
   "source": [
    "# 计算X1的多元高斯分布\n",
    "def multiGaussian(x,mu,sigma,n):\n",
    "    a=1/(pow((2*np.pi),n/2)*pow(np.linalg.det(sigma),0.5))\n",
    "    b=np.exp(-0.5*(x-mu).dot(np.linalg.pinv(sigma)).dot((x-mu).T))\n",
    "    return a*b\n",
    "\n",
    "multiGaussian(X[0],mu[0],sigma[0],n_features)"
   ]
  },
  {
   "cell_type": "code",
   "execution_count": 141,
   "id": "72a67782",
   "metadata": {},
   "outputs": [
    {
     "data": {
      "text/plain": [
       "0.26854701925850877"
      ]
     },
     "execution_count": 141,
     "metadata": {},
     "output_type": "execute_result"
    }
   ],
   "source": [
    "# 计算x_0的高斯混合\n",
    "gamma=np.zeros((n_sample,n_clusters))\n",
    "p=np.zeros(n_clusters)\n",
    "g=np.zeros(n_clusters)\n",
    "\n",
    "#u_0时\n",
    "p[0]=multiGaussian(X[0],mu[0],sigma[0],n_features)\n",
    "g[0]=alpha[0]*p[0]\n",
    "g[0]"
   ]
  },
  {
   "cell_type": "code",
   "execution_count": 142,
   "id": "8377b2bb",
   "metadata": {},
   "outputs": [],
   "source": [
    "# 计算所有x在cluster上的高斯混合\n",
    "def computeGamma(X,mu,sigma,alpha,multiGausian):\n",
    "    n_samples=X.shape[0]\n",
    "    n_features=X.shape[1]\n",
    "    n_clustes=len(alpha)\n",
    "    # 存放最终结果，每个x应该有三个gamma值\n",
    "    gamma=np.zeros((n_samples,n_clusters))\n",
    "    p=np.zeros(n_clusters) #存放多元高斯概率\n",
    "    g=np.zeros(n_clusters) #存放alpha*多元高斯概率\n",
    "    for i in range(n_samples):\n",
    "        for j in range(n_clusters):\n",
    "            p[j]=multiGaussian(X[i],mu[j],sigma[j],n_features)\n",
    "            g[j]=alpha[j]*p[j]\n",
    "        for k in range(n_clusters):\n",
    "            gamma[i,k]=round(g[k]/np.sum(g),3)\n",
    "    return gamma\n",
    "\n",
    "gamma=computeGamma(X,mu,sigma,alpha,0) \n"
   ]
  },
  {
   "cell_type": "code",
   "execution_count": 143,
   "id": "6f7b703e",
   "metadata": {},
   "outputs": [
    {
     "data": {
      "text/plain": [
       "array([0.36113333, 0.3232    , 0.3157    ])"
      ]
     },
     "execution_count": 143,
     "metadata": {},
     "output_type": "execute_result"
    }
   ],
   "source": [
    "# EM算法迭代更新\n",
    "# 更新alpha\n",
    "\n",
    "alpha=np.sum(gamma,axis=0)/n_sample\n",
    "alpha"
   ]
  },
  {
   "cell_type": "code",
   "execution_count": 144,
   "id": "ed74b600",
   "metadata": {},
   "outputs": [
    {
     "data": {
      "text/plain": [
       "(30,)"
      ]
     },
     "execution_count": 144,
     "metadata": {},
     "output_type": "execute_result"
    }
   ],
   "source": [
    "# 考虑一个X一个聚类\n",
    "gamma[:,0].shape"
   ]
  },
  {
   "cell_type": "code",
   "execution_count": 145,
   "id": "a55987eb",
   "metadata": {},
   "outputs": [
    {
     "data": {
      "text/plain": [
       "array([[0.49093096, 0.25100138],\n",
       "       [0.5712862 , 0.28133117],\n",
       "       [0.53351462, 0.29498754]])"
      ]
     },
     "execution_count": 145,
     "metadata": {},
     "output_type": "execute_result"
    }
   ],
   "source": [
    "gamma[:,0].reshape(n_sample,1)\n",
    "# 计算暂时的权重\n",
    "X*gamma[:,0].reshape(n_sample,1)\n",
    "# 保证权重之和为1\n",
    "np.sum(gamma,axis=0)[0]\n",
    "mu[0]=np.sum(X*gamma[:,0].reshape(n_sample,1),axis=0)/np.sum(gamma,axis=0)[0]\n",
    "mu[0]\n",
    "\n",
    "for j in range(n_clusters):\n",
    "    mu[j]=np.sum(X*gamma[:,j].reshape(n_sample,1),axis=0)/np.sum(gamma,axis=0)[j]\n",
    "mu"
   ]
  },
  {
   "cell_type": "code",
   "execution_count": 146,
   "id": "9f9aaefa",
   "metadata": {},
   "outputs": [
    {
     "data": {
      "text/plain": [
       "array([[0.02531132, 0.00413786],\n",
       "       [0.00413786, 0.01586176]])"
      ]
     },
     "execution_count": 146,
     "metadata": {},
     "output_type": "execute_result"
    }
   ],
   "source": [
    "# 计算sigma\n",
    "sigma[0]=0\n",
    "for j in range(n_sample):\n",
    "    sigma[0] += (X[j].reshape((1,n_features))-mu[0]).T.dot((X[j]-mu[0]).reshape(1,n_features))*gamma[j,0]\n",
    "sigma[0]=sigma[0]/np.sum(gamma,axis=0)[0]\n",
    "sigma[0]"
   ]
  },
  {
   "cell_type": "code",
   "execution_count": 147,
   "id": "a7bf6cbb",
   "metadata": {},
   "outputs": [],
   "source": [
    "import numpy as np\n",
    "import matplotlib.pyplot as plt\n",
    " \n",
    "def multiGaussian(x,mu,sigma):\n",
    "    return 1/((2*np.pi)*pow(np.linalg.det(sigma),0.5))*np.exp(-0.5*(x-mu).dot(np.linalg.pinv(sigma)).dot((x-mu).T))\n",
    " \n",
    "def computeGamma(X,mu,sigma,alpha,multiGaussian):\n",
    "    n_samples=X.shape[0]\n",
    "    n_clusters=len(alpha)\n",
    "    gamma=np.zeros((n_samples,n_clusters))\n",
    "    p=np.zeros(n_clusters)\n",
    "    g=np.zeros(n_clusters)\n",
    "    for i in range(n_samples):\n",
    "        for j in range(n_clusters):\n",
    "            p[j]=multiGaussian(X[i],mu[j],sigma[j])\n",
    "            g[j]=alpha[j]*p[j]\n",
    "        for k in range(n_clusters):\n",
    "            gamma[i,k]=g[k]/np.sum(g)\n",
    "    return gamma\n",
    " \n",
    "class MyGMM():\n",
    "    def __init__(self,n_clusters,ITER=50):\n",
    "        self.n_clusters=n_clusters\n",
    "        self.ITER=ITER\n",
    "        self.mu=0\n",
    "        self.sigma=0\n",
    "        self.alpha=0\n",
    "      \n",
    "    def fit(self,data):\n",
    "        n_samples=data.shape[0]\n",
    "        n_features=data.shape[1]\n",
    "        '''\n",
    "        mu=data[np.random.choice(range(n_samples),self.n_clusters)]\n",
    "        '''\n",
    "        alpha=np.ones(self.n_clusters)/self.n_clusters\n",
    "        \n",
    "        mu=np.array([[.403,.237],[.714,.346],[.532,.472]])\n",
    "        \n",
    "        sigma=np.full((self.n_clusters,n_features,n_features),np.diag(np.full(n_features,0.1)))\n",
    "        for i in range(self.ITER):\n",
    "            gamma=computeGamma(data,mu,sigma,alpha,multiGaussian)\n",
    "            alpha=np.sum(gamma,axis=0)/n_samples\n",
    "            for i in range(self.n_clusters):\n",
    "                mu[i]=np.sum(data*gamma[:,i].reshape((n_samples,1)),axis=0)/np.sum(gamma,axis=0)[i]\n",
    "                sigma[i]=0\n",
    "                for j in range(n_samples):\n",
    "                    sigma[i]+=(data[j].reshape((1,n_features))-mu[i]).T.dot((data[j]-mu[i]).reshape((1,n_features)))*gamma[j,i]\n",
    "                sigma[i]=sigma[i]/np.sum(gamma,axis=0)[i]\n",
    "        self.mu=mu\n",
    "        self.sigma=sigma\n",
    "        self.alpha=alpha\n",
    "        \n",
    "    def predict(self,data):\n",
    "        pred=computeGamma(data,self.mu,self.sigma,self.alpha,multiGaussian)\n",
    "        cluster_results=np.argmax(pred,axis=1)\n",
    "        return cluster_results"
   ]
  },
  {
   "cell_type": "code",
   "execution_count": 148,
   "id": "2ad44a92",
   "metadata": {},
   "outputs": [
    {
     "data": {
      "image/png": "[encoded data removed]",
      "text/plain": [
       "<Figure size 432x288 with 1 Axes>"
      ]
     },
     "metadata": {
      "needs_background": "light"
     },
     "output_type": "display_data"
    },
    {
     "data": {
      "image/png": "[encoded data removed]",
      "text/plain": [
       "<Figure size 432x288 with 1 Axes>"
      ]
     },
     "metadata": {
      "needs_background": "light"
     },
     "output_type": "display_data"
    },
    {
     "data": {
      "image/png": "[encoded data removed]",
      "text/plain": [
       "<Figure size 432x288 with 1 Axes>"
      ]
     },
     "metadata": {
      "needs_background": "light"
     },
     "output_type": "display_data"
    },
    {
     "data": {
      "image/png": "[encoded data removed]",
      "text/plain": [
       "<Figure size 432x288 with 1 Axes>"
      ]
     },
     "metadata": {
      "needs_background": "light"
     },
     "output_type": "display_data"
    }
   ],
   "source": [
    "import pandas as pd\n",
    "#data=pd.read_csv('watermelon.txt',header=None)\n",
    "#data=data.values\n",
    "It=[5,10,20,50]\n",
    "def gammPlot(It):\n",
    "    data=X \n",
    "    model1=MyGMM(3,It)\n",
    "    model1.fit(data)\n",
    "    result=model1.predict(data)\n",
    "    fig=plt.figure()\n",
    "    ax=fig.add_subplot(111)\n",
    "    plt.scatter(data[:,0],data[:,1],c=result)\n",
    "    plt.scatter(model1.mu[:,0],model1.mu[:,1],marker='x',color='red')\n",
    "    plt.title(\"it=%d\"%It)\n",
    "    plt.show()\n",
    "\n",
    "\n",
    "for i in It:\n",
    "    gammPlot(i)\n"
   ]
  },
  {
   "cell_type": "code",
   "execution_count": 151,
   "id": "95ef6ff5",
   "metadata": {},
   "outputs": [
    {
     "data": {
      "text/plain": [
       "<matplotlib.collections.PathCollection at 0x222b1a11490>"
      ]
     },
     "execution_count": 151,
     "metadata": {},
     "output_type": "execute_result"
    },
    {
     "data": {
      "image/png": "[encoded data removed]",
      "text/plain": [
       "<Figure size 432x288 with 1 Axes>"
      ]
     },
     "metadata": {
      "needs_background": "light"
     },
     "output_type": "display_data"
    }
   ],
   "source": [
    "from sklearn.mixture import GaussianMixture\n",
    "data=X \n",
    "clf = GaussianMixture(n_components=3)\n",
    "clf.fit(data)\n",
    "result = clf.predict(data)\n",
    "plt.scatter(data[:, 0], data[:, 1], c=result)"
   ]
  },
  {
   "cell_type": "code",
   "execution_count": 152,
   "id": "313c2c94",
   "metadata": {},
   "outputs": [
    {
     "name": "stderr",
     "output_type": "stream",
     "text": [
      "<ipython-input-147-d706c1fc2f52>:18: RuntimeWarning: invalid value encountered in double_scalars\n",
      "  gamma[i,k]=g[k]/np.sum(g)\n",
      "c:\\users\\qinhsiu\\appdata\\local\\programs\\python\\python39\\lib\\site-packages\\numpy\\linalg\\linalg.py:2159: RuntimeWarning: invalid value encountered in det\n",
      "  r = _umath_linalg.det(a, signature=signature)\n"
     ]
    },
    {
     "data": {
      "image/png": "[encoded data removed]",
      "text/plain": [
       "<Figure size 432x288 with 1 Axes>"
      ]
     },
     "metadata": {
      "needs_background": "light"
     },
     "output_type": "display_data"
    }
   ],
   "source": [
    "from sklearn.datasets import make_blobs\n",
    "X, Y = make_blobs(n_samples=200, n_features=2,centers=5, cluster_std=1.0,random_state=1)\n",
    "model2=MyGMM(3,100)\n",
    "model2.fit(X)\n",
    "result=model2.predict(X)\n",
    "plt.scatter(X[:,0],X[:,1],c=Y)\n",
    "plt.scatter(X[:,0],X[:,1],c=result)\n",
    "plt.show()"
   ]
  },
  {
   "cell_type": "code",
   "execution_count": null,
   "id": "5eb67a5b",
   "metadata": {},
   "outputs": [],
   "source": []
  }
 ],
 "metadata": {
  "kernelspec": {
   "display_name": "Python 3",
   "language": "python",
   "name": "python3"
  },
  "language_info": {
   "codemirror_mode": {
    "name": "ipython",
    "version": 3
   },
   "file_extension": ".py",
   "mimetype": "text/x-python",
   "name": "python",
   "nbconvert_exporter": "python",
   "pygments_lexer": "ipython3",
   "version": "3.9.5"
  }
 },
 "nbformat": 4,
 "nbformat_minor": 5
}
